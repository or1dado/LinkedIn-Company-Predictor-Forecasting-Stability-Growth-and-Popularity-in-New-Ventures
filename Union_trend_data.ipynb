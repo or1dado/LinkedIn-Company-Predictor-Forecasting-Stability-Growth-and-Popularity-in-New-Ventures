{
  "nbformat": 4,
  "nbformat_minor": 0,
  "metadata": {
    "colab": {
      "provenance": []
    },
    "kernelspec": {
      "name": "python3",
      "display_name": "Python 3"
    },
    "language_info": {
      "name": "python"
    }
  },
  "cells": [
    {
      "cell_type": "code",
      "execution_count": 1,
      "metadata": {
        "id": "GcxlMzTmHndg"
      },
      "outputs": [],
      "source": [
        "import pandas as pd\n",
        "import re"
      ]
    },
    {
      "cell_type": "code",
      "source": [
        "import os\n",
        "\n",
        "def get_union_df(folder_path):\n",
        "    all_files = os.listdir(folder_path)\n",
        "    csv_files = [file for file in all_files if file.endswith('.csv')]\n",
        "    final_df = pd.DataFrame()\n",
        "    for file in csv_files:\n",
        "        df = pd.read_csv(os.path.join(folder_path, file))  # Corrected function call\n",
        "        final_df = pd.concat([final_df, df], ignore_index=True)\n",
        "    return final_df"
      ],
      "metadata": {
        "id": "L19D-b-yJf5o"
      },
      "execution_count": 13,
      "outputs": []
    },
    {
      "cell_type": "code",
      "source": [
        "folder_path = \"./data/trend_data/data_old\"\n",
        "df = get_union_df(folder_path)\n",
        "df.to_csv('./data/trend_data/old_companies_trend.csv')"
      ],
      "metadata": {
        "id": "6ayjCke3tgwz"
      },
      "execution_count": 15,
      "outputs": []
    },
    {
      "cell_type": "code",
      "source": [
        "folder_path = \"./data/trend_data/data_new\"\n",
        "df = get_union_df(folder_path)\n",
        "df.to_csv('./data/trend_data/new_companies_trend.csv')"
      ],
      "metadata": {
        "id": "sbV2AsZxfelZ"
      },
      "execution_count": 16,
      "outputs": []
    },
    {
      "cell_type": "code",
      "source": [],
      "metadata": {
        "id": "kh2EtwFsinZD"
      },
      "execution_count": null,
      "outputs": []
    }
  ]
}