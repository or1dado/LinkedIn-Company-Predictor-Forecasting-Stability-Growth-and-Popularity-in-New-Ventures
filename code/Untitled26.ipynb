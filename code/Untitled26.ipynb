{
  "nbformat": 4,
  "nbformat_minor": 0,
  "metadata": {
    "colab": {
      "provenance": []
    },
    "kernelspec": {
      "name": "python3",
      "display_name": "Python 3"
    },
    "language_info": {
      "name": "python"
    }
  },
  "cells": [
    {
      "cell_type": "code",
      "execution_count": null,
      "metadata": {
        "id": "GcxlMzTmHndg"
      },
      "outputs": [],
      "source": [
        "import pandas as pd\n",
        "import re"
      ]
    },
    {
      "cell_type": "code",
      "source": [
        "import os\n",
        "folder_path = \"/content/old1\"\n",
        "all_files = os.listdir(folder_path)\n",
        "csv_files = [file for file in all_files if file.endswith('.csv')]\n",
        "final_df = pd.DataFrame()\n",
        "for file in csv_files:\n",
        "  df = pd.read_csv(\"/content/old1/\" + file)\n",
        "  final_df = pd.concat([final_df, df], ignore_index=True)\n"
      ],
      "metadata": {
        "id": "L19D-b-yJf5o"
      },
      "execution_count": null,
      "outputs": []
    },
    {
      "cell_type": "code",
      "source": [
        "final_df.to_csv('old_companies_trend.csv')"
      ],
      "metadata": {
        "id": "6ayjCke3tgwz"
      },
      "execution_count": null,
      "outputs": []
    }
  ]
}
