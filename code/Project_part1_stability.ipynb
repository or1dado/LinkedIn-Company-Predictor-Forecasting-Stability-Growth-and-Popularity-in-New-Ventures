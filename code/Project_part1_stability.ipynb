{
 "cells": [
  {
   "cell_type": "markdown",
   "metadata": {
    "application/vnd.databricks.v1+cell": {
     "cellMetadata": {},
     "inputWidgets": {},
     "nuid": "923dd7a2-8919-4512-b3eb-a7ba3e1a5c28",
     "showTitle": false,
     "title": ""
    }
   },
   "source": [
    "# Import"
   ]
  },
  {
   "cell_type": "code",
   "execution_count": 0,
   "metadata": {
    "application/vnd.databricks.v1+cell": {
     "cellMetadata": {
      "byteLimit": 2048000,
      "rowLimit": 10000
     },
     "inputWidgets": {},
     "nuid": "fe661519-bff5-41f3-b69a-a310fedefb79",
     "showTitle": false,
     "title": ""
    }
   },
   "outputs": [
    {
     "output_type": "display_data",
     "data": {
      "application/vnd.databricks.v1+bamboolib_hint": "{\"pd.DataFrames\": [], \"version\": \"0.0.1\"}",
      "text/plain": []
     },
     "metadata": {},
     "output_type": "display_data"
    },
    {
     "output_type": "stream",
     "name": "stdout",
     "output_type": "stream",
     "text": [
      "Warning::Spark Session already created, some configs may not take.\n[nltk_data] Downloading package stopwords to /root/nltk_data...\n[nltk_data]   Package stopwords is already up-to-date!\n[nltk_data] Downloading package punkt to /root/nltk_data...\n[nltk_data]   Package punkt is already up-to-date!\n[nltk_data] Downloading package wordnet to /root/nltk_data...\n[nltk_data]   Package wordnet is already up-to-date!\n"
     ]
    }
   ],
   "source": [
    "import string\n",
    "from itertools import chain\n",
    "import numpy as np\n",
    "import pandas as pd\n",
    "import seaborn as sns\n",
    "import matplotlib.pyplot as plt\n",
    "\n",
    "import nltk\n",
    "from nltk.corpus import stopwords\n",
    "from nltk.tokenize import word_tokenize\n",
    "from nltk.stem import WordNetLemmatizer\n",
    "\n",
    "from pyspark.ml.feature import *\n",
    "from pyspark.ml.feature import Tokenizer\n",
    "from pyspark.ml.linalg import Vectors, VectorUDT\n",
    "from pyspark.ml.evaluation import MulticlassClassificationEvaluator\n",
    "\n",
    "import sparknlp\n",
    "from sparknlp.annotator import *\n",
    "from sparknlp.common import *\n",
    "from sparknlp.base import *\n",
    "\n",
    "spark = sparknlp.start()\n",
    "nltk.download('stopwords')\n",
    "nltk.download('punkt')\n",
    "nltk.download('wordnet')\n",
    "lemmatizer = WordNetLemmatizer()\n",
    "stop_words = set(stopwords.words('english'))\n",
    "\n",
    "from pyspark.sql.types import *\n",
    "from pyspark.sql.functions import *\n",
    "import pyspark\n",
    "from pyspark.sql import SparkSession\n",
    "from pyspark.sql import functions as F\n",
    "\n",
    "spark = SparkSession.builder.getOrCreate()"
   ]
  },
  {
   "cell_type": "markdown",
   "metadata": {
    "application/vnd.databricks.v1+cell": {
     "cellMetadata": {},
     "inputWidgets": {},
     "nuid": "92c34418-64f3-45ab-be09-6b98badc35d4",
     "showTitle": false,
     "title": ""
    }
   },
   "source": [
    "# Helper Functions"
   ]
  },
  {
   "cell_type": "code",
   "execution_count": 0,
   "metadata": {
    "application/vnd.databricks.v1+cell": {
     "cellMetadata": {
      "byteLimit": 2048000,
      "rowLimit": 10000
     },
     "inputWidgets": {},
     "nuid": "69a85f34-4fb7-47d5-987c-1892a792edbe",
     "showTitle": false,
     "title": ""
    }
   },
   "outputs": [],
   "source": [
    "# HELPER FUNCTIONS\n",
    "def cleanup_text(text):\n",
    "    # clean up text data by removing stopwords, punctuation, and lemmatizing words\n",
    "    words = word_tokenize(text)\n",
    "    words = [word.lower() for word in words if word.lower() not in stop_words]  \n",
    "    words = [word for word in words if word not in string.punctuation]   \n",
    "    words = [lemmatizer.lemmatize(word, pos='v') for word in words] \n",
    "    cleaned_text = \" \".join(words)\n",
    "    return cleaned_text\n",
    "\n",
    "from pyspark.sql.functions import col, size\n",
    "def add_features(companies):\n",
    "    # creates new columns based on existing columns to provide additional information\n",
    "    companies = companies.withColumn('number_of_similar_companies', size(col('similar')))\n",
    "    companies = companies.withColumn('number_of_locations', size(col('formatted_locations')))\n",
    "    return companies\n",
    "\n",
    "def fill_missing_values(companies, features):\n",
    "    #  fills missing values in the specified columns. For numeric columns, missing values\n",
    "    # are filled with 0, and for label columns, missing values are filled with 'none'\n",
    "    for column in features:\n",
    "        if column in ['number_of_similar_companies', 'employees_in_linkedin', 'followers']:\n",
    "            companies = companies.withColumn(f'{column}', when(companies[column].isNull(), -1).otherwise(companies[column]))\n",
    "        else:\n",
    "            companies = companies.withColumn(f'{column}', when(companies[column].isNull(), 'none').otherwise(companies[column]))\n",
    "    return companies\n",
    "\n",
    "def feature_to_oneHotEncoder(companies, feature):\n",
    "    # convert a categorical feature to one-hot encoded vectors\n",
    "    string_indexer = StringIndexer(inputCol=feature, outputCol=f\"{feature}_index\")\n",
    "    one_hot_encoder = OneHotEncoder(inputCol=f\"{feature}_index\", outputCol=f\"{feature}_feature\")\n",
    "    pipeline = Pipeline(stages=[string_indexer, one_hot_encoder])\n",
    "    companies = pipeline.fit(companies).transform(companies)\n",
    "    return companies\n",
    "\n",
    "def category_to_index(companies, feature, dict_index):\n",
    "    # convert a categorical feature to indexed values\n",
    "    mapping_expr = create_map([lit(x) for x in chain(*dict_index.items())])\n",
    "    if feature == 'popularity_category':\n",
    "        companies = companies.withColumn(f\"label\", mapping_expr[col(feature)])\n",
    "    else:\n",
    "        companies = companies.withColumn(f\"{feature}_feature\", mapping_expr[col(feature)])\n",
    "    return companies\n",
    "\n",
    "def create_word2vec(companies, text_column):\n",
    "    # create Word2Vec embeddings for a text column\n",
    "    cleanup_text_udf = udf(cleanup_text)\n",
    "    punctuation_pattern = r'[^\\w\\s]'\n",
    "    companies = companies.withColumn(f'cleaned_{text_column}', F.regexp_replace(col(text_column), punctuation_pattern, \"\"))\n",
    "    companies = companies.withColumn(f'cleaned_{text_column}', cleanup_text_udf(col(f'cleaned_{text_column}')))\n",
    "    # tokenization\n",
    "    tokenizer = Tokenizer(inputCol=f'cleaned_{text_column}', outputCol=f\"{text_column}_tokens\")\n",
    "    companies = tokenizer.transform(companies)\n",
    "    # learn a Word2Vec model from the tokenized words\n",
    "    k = 10\n",
    "    word2vec = Word2Vec(vectorSize=k, minCount=1, inputCol=f\"{text_column}_tokens\", outputCol=f\"{text_column}_feature\")\n",
    "    word2vec_model = word2vec.fit(companies)\n",
    "    # transform the tokenized words into word vectors\n",
    "    companies = word2vec_model.transform(companies)\n",
    "    return companies\n",
    "\n",
    "def convert_to_label(companies, label):\n",
    "    # convert a label column to numeric indices\n",
    "    indexer = StringIndexer(inputCol=label, outputCol=f\"label\")\n",
    "    companies = indexer.fit(companies).transform(companies)\n",
    "    return companies\n",
    "\n",
    "from pyspark.sql.functions import lit, create_map\n",
    "def index_to_category(companies, feature, output_col, dict_index):\n",
    "    # Create a mapping expression to convert indexed values to strings\n",
    "    dict_index = {v: k for k, v in dict_index.items()}\n",
    "    reverse_mapping_expr = create_map([lit(v) for v in chain(*dict_index.items())])\n",
    "    companies = companies.withColumn(output_col, reverse_mapping_expr[col(feature)])\n",
    "    return companies\n",
    "\n",
    "from pyspark.sql.functions import col, when\n",
    "def show_null_precentage(companies, fetures):\n",
    "    #display the percentage of null values in specified columns\n",
    "    null_counts = companies.select([sum(col(column).isNull().cast(\"int\")).alias(column) for column in fetures])\n",
    "    total_rows = companies.count()\n",
    "    null_percentage = null_counts.select([(col(column) / total_rows * 100).alias(column + \"_null_percentage\") for column in fetures])\n",
    "    null_percentage.display()\n",
    "\n",
    "def embedding_text_features(train_data, test_data, text_features):\n",
    "    # embedding text columns and converting the resulting array of embeddings into dense vectors\n",
    "    for feature in text_features:\n",
    "        # Create a DocumentAssembler for the current feature\n",
    "        document = DocumentAssembler() \\\n",
    "            .setInputCol(feature) \\\n",
    "            .setOutputCol(\"document\")\n",
    "\n",
    "        embeddings = BertSentenceEmbeddings.pretrained(\"sent_small_bert_L2_128\") \\\n",
    "            .setInputCols([\"document\"]) \\\n",
    "            .setOutputCol(\"sentence_embeddings\")\\\n",
    "            .setCaseSensitive(True) \\\n",
    "            .setMaxSentenceLength(128)\n",
    "\n",
    "        pipeline = Pipeline(stages=[document,\n",
    "                                    embeddings])\n",
    "\n",
    "        transformed_df = pipeline.fit(train_data).transform(test_data)\n",
    "\n",
    "        # Join the transformed DataFrame with the original DataFrame using the row_id column\n",
    "        test_data = test_data.join(transformed_df.select(\"id\", f\"sentence_embeddings\"), on=\"id\", how=\"left\")\n",
    "        test_data = test_data.withColumnRenamed(\"sentence_embeddings\", f\"{feature}_test\")\n",
    "\n",
    "        # Define a function to convert array to DenseVector\n",
    "        def array_to_vector(arr):\n",
    "            return Vectors.dense(arr)\n",
    "        # Create a UDF from the function\n",
    "        array_to_vector_udf = udf(array_to_vector, VectorUDT())\n",
    "\n",
    "        test_data = test_data.withColumn(f\"{feature}_feature\", flatten(expr(f\"transform({feature}_test.embeddings, x -> x)\")))\n",
    "        test_data = test_data.withColumn(f\"{feature}_feature\", array_to_vector_udf(col(f\"{feature}_feature\")))\n",
    "\n",
    "    return test_data \n",
    "\n",
    "def create_city_state_mapping(companies):\n",
    "    companies = companies.withColumn(\"city\", when(companies[\"headquarters\"].isNull(), \"other\").otherwise(split(\"headquarters\", \",\")[0]))\n",
    "    companies = companies.withColumn(\"state\", when(companies[\"headquarters\"].isNull(), \"other\").otherwise(split(\"headquarters\", \",\")[1]))\n",
    "    companies = companies.withColumn(\"state\", when(companies[\"state\"].isNull(), \"other\").otherwise(companies[\"state\"]))\n",
    "\n",
    "    # Count occurrences of each city and state\n",
    "    city_counts = companies.groupBy(\"city\").count().alias(\"city_counts\")\n",
    "    state_counts = companies.groupBy(\"state\").count().alias(\"state_counts\")\n",
    "\n",
    "    # Filter out cities and states appearing less than 5 times\n",
    "    city_filtered = city_counts.filter(city_counts[\"count\"] >= 5)\n",
    "    state_filtered = state_counts.filter(state_counts[\"count\"] >= 2)\n",
    "\n",
    "    # Create a set of cities and states to replace with \"other\"\n",
    "    city_set = set(city_filtered.select(\"city\").rdd.flatMap(lambda x: x).collect())\n",
    "    state_set = set(state_filtered.select(\"state\").rdd.flatMap(lambda x: x).collect())\n",
    "\n",
    "    # Replace cities and states not in the set with \"other\"\n",
    "    companies = companies.withColumn(\"filtered_city\", when(companies[\"city\"].isin(city_set), companies[\"city\"]).otherwise(lit(\"other\"))) \\\n",
    "                         .withColumn(\"filtered_state\", when(companies[\"state\"].isin(state_set), companies[\"state\"]).otherwise(lit(\"other\")))\n",
    "\n",
    "    unique_cities = companies.select(\"filtered_city\").distinct().rdd.map(lambda x: x[0]).collect()\n",
    "    city_dict = {city: index for index, city in enumerate(unique_cities)}\n",
    "\n",
    "    unique_states = companies.select(\"filtered_state\").distinct().rdd.map(lambda x: x[0]).collect()\n",
    "    states_dict = {state: index for index, state in enumerate(unique_states)}\n",
    "\n",
    "    cities = udf(lambda x: city_dict[x])\n",
    "    states = udf(lambda x: states_dict[x])\n",
    "\n",
    "    return companies, city_set, state_set, cities, states\n",
    "\n",
    "def create_city_state_indices(companies, city_set, state_set, cities, states, is_test=False):\n",
    "    if is_test:\n",
    "        companies = companies.withColumn(\"city\", when(companies[\"headquarters\"].isNull(), \"other\").otherwise(split(\"headquarters\", \",\")[0]))\n",
    "        companies = companies.withColumn(\"state\", when(companies[\"headquarters\"].isNull(), \"other\").otherwise(split(\"headquarters\", \",\")[1]))\n",
    "        companies = companies.withColumn(\"state\", when(companies[\"state\"].isNull(), \"other\").otherwise(companies[\"state\"]))\n",
    "\n",
    "        # Replace cities and states not in the set with \"other\"\n",
    "        companies = companies.withColumn(\"filtered_city\", when(companies[\"city\"].isin(city_set), companies[\"city\"]).otherwise(lit(\"other\"))) \\\n",
    "                            .withColumn(\"filtered_state\", when(companies[\"state\"].isin(state_set), companies[\"state\"]).otherwise(lit(\"other\")))\n",
    "\n",
    "    # Create indexes of city and state to one hot vector\n",
    "    companies = companies.withColumn(\"city_index\", cities(col('filtered_city'))) \\\n",
    "                         .withColumn(\"state_index\", states(col('filtered_state'))) \\\n",
    "                                \n",
    "    companies = companies.withColumn('city_index', col('city_index').cast('int'))\n",
    "    companies = companies.withColumn('state_index', col('state_index').cast('int'))\n",
    "    return companies\n",
    "\n",
    "def create_city_state_one_hot(old_companies, new_companies):\n",
    "    encoder = OneHotEncoder(inputCol='city_index', outputCol='city_feature', dropLast=False)\n",
    "    new_companies = encoder.fit(old_companies.drop('city_feature')).transform(new_companies)\n",
    "\n",
    "    encoder = OneHotEncoder(inputCol='state_index', outputCol='state_feature', dropLast=False)\n",
    "    new_companies = encoder.fit(old_companies.drop('state_feature')).transform(new_companies)\n",
    "\n",
    "    return new_companies\n",
    "\n",
    "def create_one_hot_from_dict(companies, feature_name, index_dict):\n",
    "    indices = udf(lambda x: index_dict[x])\n",
    "    companies = companies.withColumn(f\"{feature_name}_index\", indices(col(feature_name)))               \n",
    "    companies = companies.withColumn(f\"{feature_name}_index\", col(f\"{feature_name}_index\").cast('int'))\n",
    "    encoder = OneHotEncoder(inputCol=f\"{feature_name}_index\", outputCol=f\"{feature_name}_feature\", dropLast=False)\n",
    "    companies = encoder.fit(companies).transform(companies)\n",
    "    return companies\n"
   ]
  },
  {
   "cell_type": "code",
   "execution_count": 0,
   "metadata": {
    "application/vnd.databricks.v1+cell": {
     "cellMetadata": {
      "byteLimit": 2048000,
      "rowLimit": 10000
     },
     "inputWidgets": {},
     "nuid": "a0dbcae0-5ee1-4838-a67a-26f03e515c5c",
     "showTitle": false,
     "title": ""
    }
   },
   "outputs": [],
   "source": [
    "company_size_dict = {'none': 0,\n",
    "                     '1 employee': 1,\n",
    "                     '2-10 employees': 2,\n",
    "                     '11-50 employees': 3,\n",
    "                     '51-200 employees': 4,\n",
    "                     '201-500 employees': 5,\n",
    "                     '501-1,000 employees': 6,\n",
    "                     '1,001-5,000 employees': 7,\n",
    "                     '5,001-10,000 employees': 8,\n",
    "                     '10,001+ employees': 9\n",
    "                     }\n",
    "\n",
    "meta_industries_dict = {'Manufacturing': 0,\n",
    "            'Financial and Investment': 1,\n",
    "            'Services': 2,\n",
    "            'Miscellaneous': 3,\n",
    "            'Healthcare and Medical': 4,\n",
    "            'Technology': 5,\n",
    "            'Retail and Consumer Goods': 6,\n",
    "            'Education and Training': 7,\n",
    "            'Government and Public Policy': 8,\n",
    "            'Transportation and Logistics': 9,\n",
    "            'Real Estate and Construction': 10,\n",
    "            'Media and Entertainment': 11\n",
    "            } \n",
    "\n",
    "organization_type_dict = {'Privately Held': 0,\n",
    "                          'Self-Owned': 1,\n",
    "                          'Nonprofit': 2,\n",
    "                          'Partnership': 3,\n",
    "                          'Self-Employed': 4,\n",
    "                          'Educational': 5,\n",
    "                          'Public Company': 6,\n",
    "                          'Government Agency': 7,\n",
    "                          'none': 8\n",
    "                        }\n",
    "\n",
    "meta_industries_12 = {\n",
    "    'Furniture and Home Furnishings Manufacturing': 'Manufacturing',\n",
    "    'Investment Banking': 'Financial and Investment',\n",
    "    'Architecture and Planning': 'Services',\n",
    "    'Wholesale': 'Services',\n",
    "    'Travel Arrangements': 'Services',\n",
    "    'Ranching': 'Miscellaneous',\n",
    "    'Hospitals and Health Care': 'Healthcare and Medical',\n",
    "    'Book and Periodical Publishing': 'Services',\n",
    "    'Printing Services': 'Services',\n",
    "    'Professional Training and Coaching': 'Services',\n",
    "    'Computers and Electronics Manufacturing': 'Manufacturing',\n",
    "    'Shipbuilding': 'Manufacturing',\n",
    "    'Public Policy Offices': 'Government and Public Policy',\n",
    "    'Software Development': 'Technology',\n",
    "    'Outsourcing and Offshoring Consulting': 'Services',\n",
    "    'Retail Groceries': 'Retail and Consumer Goods',\n",
    "    'Education Administration Programs': 'Education and Training',\n",
    "    'Plastics Manufacturing': 'Manufacturing',\n",
    "    'Renewable Energy Semiconductor Manufacturing': 'Manufacturing',\n",
    "    'Computer Networking Products': 'Technology',\n",
    "    'Events Services': 'Services',\n",
    "    'Information Services': 'Services',\n",
    "    'Food and Beverage Services': 'Services',\n",
    "    'Semiconductor Manufacturing': 'Manufacturing',\n",
    "    'Business Consulting and Services': 'Services',\n",
    "    'Insurance': 'Services',\n",
    "    'Financial Services': 'Services',\n",
    "    'Wireless Services': 'Services',\n",
    "    'Computer Hardware Manufacturing': 'Technology',\n",
    "    'Public Safety': 'Services',\n",
    "    'Maritime Transportation': 'Transportation and Logistics',\n",
    "    'Tobacco Manufacturing': 'Manufacturing',\n",
    "    'Writing and Editing': 'Services',\n",
    "    'Veterinary Services': 'Services',\n",
    "    'Staffing and Recruiting': 'Services',\n",
    "    'Accounting': 'Services',\n",
    "    'International Affairs': 'Government and Public Policy',\n",
    "    'Spectator Sports': 'Miscellaneous',\n",
    "    'Glass, Ceramics and Concrete Manufacturing': 'Manufacturing',\n",
    "    'Chemical Manufacturing': 'Manufacturing',\n",
    "    'Mining': 'Miscellaneous',\n",
    "    'E-Learning Providers': 'Technology',\n",
    "    'Security and Investigations': 'Services',\n",
    "    'Translation and Localization': 'Services',\n",
    "    'Automation Machinery Manufacturing': 'Technology',\n",
    "    'Computer and Network Security': 'Technology',\n",
    "    'Political Organizations': 'Government and Public Policy',\n",
    "    'Environmental Services': 'Government and Public Policy',\n",
    "    'Oil and Gas': 'Miscellaneous',\n",
    "    'Real Estate': 'Real Estate and Construction',\n",
    "    'Think Tanks': 'Government and Public Policy',\n",
    "    'Executive Offices': 'Miscellaneous',\n",
    "    'Law Practice': 'Services',\n",
    "    'Nanotechnology Research': 'Miscellaneous',\n",
    "    'International Trade and Development': 'Government and Public Policy',\n",
    "    'Personal Care Product Manufacturing': 'Manufacturing',\n",
    "    'Philanthropic Fundraising Services': 'Services',\n",
    "    'Entertainment Providers': 'Media and Entertainment',\n",
    "    'Market Research': 'Media and Entertainment',\n",
    "    'Movies, Videos, and Sound': 'Media and Entertainment',\n",
    "    'Sporting Goods Manufacturing': 'Manufacturing',\n",
    "    'Graphic Design': 'Services',\n",
    "    'Technology, Information and Internet': 'Technology',\n",
    "    'IT Services and IT Consulting': 'Technology',\n",
    "    'Retail Office Equipment': 'Retail and Consumer Goods',\n",
    "    'Wholesale Import and Export': 'Services',\n",
    "    'Capital Markets': 'Financial and Investment',\n",
    "    'Law Enforcement': 'Services',\n",
    "    'Freight and Package Transportation': 'Transportation and Logistics',\n",
    "    'Industrial Machinery Manufacturing': 'Manufacturing',\n",
    "    'Non-profit Organizations': 'Miscellaneous',\n",
    "    'Retail Art Supplies': 'Retail and Consumer Goods',\n",
    "    'Animation and Post-production': 'Media and Entertainment',\n",
    "    'Transportation, Logistics, Supply Chain and Storage': 'Transportation and Logistics',\n",
    "    'Aviation and Aerospace Component Manufacturing': 'Transportation and Logistics',\n",
    "    'Fundraising': 'Financial and Investment',\n",
    "    'Railroad Equipment Manufacturing': 'Transportation and Logistics',\n",
    "    'Construction': 'Real Estate and Construction',\n",
    "    'Investment Management': 'Financial and Investment',\n",
    "    'Utilities': 'Miscellaneous',\n",
    "    'Retail Luxury Goods and Jewelry': 'Retail and Consumer Goods',\n",
    "    'Warehousing and Storage': 'Transportation and Logistics',\n",
    "    'Media Production': 'Media and Entertainment',\n",
    "    'Gambling Facilities and Casinos': 'Media and Entertainment',\n",
    "    'Defense and Space Manufacturing': 'Manufacturing',\n",
    "    'Facilities Services': 'Services',\n",
    "    'Government Relations Services': 'Government and Public Policy',\n",
    "    'Advertising Services': 'Media and Entertainment',\n",
    "    'Paper and Forest Product Manufacturing': 'Manufacturing',\n",
    "    'Packaging and Containers Manufacturing': 'Manufacturing',\n",
    "    'Telecommunications': 'Technology',\n",
    "    'Medical Equipment Manufacturing': 'Healthcare and Medical',\n",
    "    'Beverage Manufacturing': 'Manufacturing',\n",
    "    'Restaurants': 'Retail and Consumer Goods',\n",
    "    'Leasing Non-residential Real Estate': 'Real Estate and Construction',\n",
    "    'Newspaper Publishing': 'Media and Entertainment',\n",
    "    'Armed Forces': 'Miscellaneous',\n",
    "    'Appliances, Electrical, and Electronics Manufacturing': 'Manufacturing',\n",
    "    'Hospitality': 'Services',\n",
    "    'Pharmaceutical Manufacturing': 'Healthcare and Medical',\n",
    "    'Research Services': 'Services',\n",
    "    'Retail Apparel and Fashion': 'Retail and Consumer Goods',\n",
    "    'Photography': 'Media and Entertainment',\n",
    "    'Wellness and Fitness Services': 'Services',\n",
    "    'Truck Transportation': 'Transportation and Logistics',\n",
    "    'Consumer Services': 'Services',\n",
    "    'Wholesale Building Materials': 'Services',\n",
    "    'Human Resources Services': 'Services',\n",
    "    'Airlines and Aviation': 'Transportation and Logistics',\n",
    "    'Machinery Manufacturing': 'Manufacturing',\n",
    "    'Individual and Family Services': 'Services',\n",
    "    'Motor Vehicle Manufacturing': 'Manufacturing',\n",
    "    'Performing Arts': 'Media and Entertainment',\n",
    "    'Museums, Historical Sites, and Zoos': 'Media and Entertainment',\n",
    "    'Broadcast Media Production and Distribution': 'Media and Entertainment',\n",
    "    'Banking': 'Financial and Investment',\n",
    "    'Recreational Facilities': 'Miscellaneous',\n",
    "    'Government Administration': 'Government and Public Policy',\n",
    "    'Public Relations and Communications Services': 'Media and Entertainment',\n",
    "    'Fisheries': 'Miscellaneous',\n",
    "    'Medical Practices': 'Healthcare and Medical',\n",
    "    'Religious Institutions': 'Miscellaneous',\n",
    "    'Online Audio and Video Media': 'Media and Entertainment',\n",
    "    'Artists and Writers': 'Miscellaneous',\n",
    "    'Biotechnology Research': 'Healthcare and Medical',\n",
    "    'Legal Services': 'Services',\n",
    "    'Retail': 'Retail and Consumer Goods',\n",
    "    'Civil Engineering': 'Services',\n",
    "    'Libraries': 'Miscellaneous',\n",
    "    'Alternative Dispute Resolution': 'Miscellaneous',\n",
    "    'Manufacturing': 'Miscellaneous',\n",
    "    'Design Services': 'Services',\n",
    "    'Dairy Product Manufacturing': 'Manufacturing',\n",
    "    'Higher Education': 'Education and Training',\n",
    "    'Civic and Social Organizations': 'Miscellaneous',\n",
    "    'Textile Manufacturing': 'Manufacturing',\n",
    "    'Venture Capital and Private Equity Principals': 'Financial and Investment',\n",
    "    'Mental Health Care': 'Healthcare and Medical',\n",
    "    'Musicians': 'Media and Entertainment',\n",
    "    'Farming': 'Miscellaneous',\n",
    "    'Computer Games': 'Media and Entertainment',\n",
    "    'Strategic Management Services': 'Services',\n",
    "    'Food and Beverage Manufacturing': 'Manufacturing',\n",
    "    'Primary and Secondary Education': 'Education and Training',\n",
    "    'Alternative Medicine': 'Healthcare and Medical',\n",
    "    'Legislative Offices': 'Services',\n",
    "    'Administration of Justice': 'Services',\n",
    "    'Mobile Gaming Apps': 'Media and Entertainment'\n",
    "}"
   ]
  },
  {
   "cell_type": "markdown",
   "metadata": {
    "application/vnd.databricks.v1+cell": {
     "cellMetadata": {},
     "inputWidgets": {},
     "nuid": "607a5ae2-329a-4785-aa14-f029ef159504",
     "showTitle": false,
     "title": ""
    }
   },
   "source": [
    "# Upload new & old companies trend and merge the linkedin companies data"
   ]
  },
  {
   "cell_type": "code",
   "execution_count": 0,
   "metadata": {
    "application/vnd.databricks.v1+cell": {
     "cellMetadata": {
      "byteLimit": 2048000,
      "rowLimit": 10000
     },
     "inputWidgets": {},
     "nuid": "2ea65460-0e13-43b3-86f4-6188ea483148",
     "showTitle": false,
     "title": ""
    }
   },
   "outputs": [],
   "source": [
    "companies = spark.read.parquet('/linkedin/companies')\n",
    "\n",
    "# upload companies trend\n",
    "old_companies_trend_df = pd.read_csv(\"/dbfs/FileStore/shared_uploads/omriitzhaki@campus.technion.ac.il/final_old_companies_trend_preprocess\")\n",
    "new_companies_trend_df = pd.read_csv(\"/dbfs/FileStore/shared_uploads/omriitzhaki@campus.technion.ac.il/final_new_companies_trend_preprocess\")\n",
    "old_companies = spark.createDataFrame(old_companies_trend_df)\n",
    "new_companies = spark.createDataFrame(new_companies_trend_df)\n",
    "\n",
    "# merge with linkedin companies data\n",
    "old_companies = companies.join(old_companies, 'name', 'inner')\n",
    "new_companies = companies.join(new_companies, 'name', 'inner')\n",
    "\n",
    "# Filter companies that contain & in thier name\n",
    "old_companies = old_companies.filter(~col(\"search_name\").contains(\"&\"))\n",
    "new_companies = new_companies.filter(~col(\"search_name\").contains(\"&\"))\n",
    "\n",
    "# filter old & new companies according to our definition\n",
    "old_companies = old_companies.filter(col('founded') >= '1900').filter(col('founded') < '2020')\n",
    "new_companies = new_companies.filter(col('founded') >= '2020').filter(col('founded') < '2025')\n",
    "\n",
    "# add meta_industry column\n",
    "meta_industry = udf(lambda x: meta_industries_12[x] )\n",
    "\n",
    "old_companies = old_companies.filter(old_companies.industries.isNotNull())\n",
    "old_companies = old_companies.withColumn('meta_industry', meta_industry(col('industries')))\n",
    "\n",
    "new_companies = new_companies.filter(new_companies.industries.isNotNull())\n",
    "new_companies = new_companies.withColumn('meta_industry', meta_industry(col('industries')))"
   ]
  },
  {
   "cell_type": "markdown",
   "metadata": {
    "application/vnd.databricks.v1+cell": {
     "cellMetadata": {},
     "inputWidgets": {},
     "nuid": "2ef5f3a9-2bec-4933-8042-98a61bbbe53c",
     "showTitle": false,
     "title": ""
    }
   },
   "source": [
    "# Stability Features"
   ]
  },
  {
   "cell_type": "code",
   "execution_count": 0,
   "metadata": {
    "application/vnd.databricks.v1+cell": {
     "cellMetadata": {
      "byteLimit": 2048000,
      "rowLimit": 10000
     },
     "inputWidgets": {},
     "nuid": "15ba8a1e-a37b-4b45-8fa4-54f1d37b91cf",
     "showTitle": false,
     "title": ""
    }
   },
   "outputs": [],
   "source": [
    "# create list of all the relevant companies that we want to extract features\n",
    "old_companies_id = old_companies.select('id').distinct().rdd.map(lambda x: x[0]).collect()\n",
    "new_companies_id = new_companies.select('id').distinct().rdd.map(lambda x: x[0]).collect()\n",
    "total_copmpanies_list = old_companies_id + new_companies_id"
   ]
  },
  {
   "cell_type": "code",
   "execution_count": 0,
   "metadata": {
    "application/vnd.databricks.v1+cell": {
     "cellMetadata": {
      "byteLimit": 2048000,
      "rowLimit": 10000
     },
     "inputWidgets": {},
     "nuid": "2f32df47-fbb9-4c6b-b7cb-4de301e27ef0",
     "showTitle": false,
     "title": ""
    }
   },
   "outputs": [
    {
     "output_type": "stream",
     "name": "stdout",
     "output_type": "stream",
     "text": [
      "sent_small_bert_L2_128 download started this may take some time.\nApproximate size to download 16.1 MB\n\r[ | ]\r[ / ]\r[ — ]\r[ \\ ]\r[ | ]\r[ / ]\r[OK!]\nsent_small_bert_L2_128 download started this may take some time.\nApproximate size to download 16.1 MB\n\r[ | ]\r[OK!]\nsent_small_bert_L2_128 download started this may take some time.\nApproximate size to download 16.1 MB\n\r[ | ]\r[OK!]\n"
     ]
    }
   ],
   "source": [
    "companies = spark.read.parquet('/linkedin/companies')\n",
    "companies = companies.filter(col('id').isin(total_copmpanies_list))\n",
    "\n",
    "# add meta_industry column\n",
    "meta_industry = udf(lambda x: meta_industries_12[x] )\n",
    "companies = companies.filter(companies.industries.isNotNull())\n",
    "companies = companies.withColumn('meta_industry', meta_industry(col('industries')))\n",
    "\n",
    "# fill missing values\n",
    "old_companies = fill_missing_values(old_companies, ['company_size', 'organization_type', 'about', 'slogan', 'specialties'])\n",
    "\n",
    "# company_size feature\n",
    "old_companies = category_to_index(old_companies, 'company_size', company_size_dict)\n",
    "\n",
    "# organization_type feature\n",
    "old_companies = create_one_hot_from_dict(old_companies, 'organization_type', organization_type_dict)\n",
    "\n",
    "# add meta_industry column & feature\n",
    "meta_industry = udf(lambda x: meta_industries_12[x] )\n",
    "companies = companies.filter(companies.industries.isNotNull())\n",
    "companies = companies.withColumn('meta_industry', meta_industry(col('industries')))\n",
    "companies = create_one_hot_from_dict(companies, 'meta_industry', meta_industries_dict)\n",
    "\n",
    "# state feature\n",
    "companies, city_set, state_set, cities, states = create_city_state_mapping(companies)\n",
    "companies = create_city_state_indices(companies, city_set, state_set, cities, states, is_test=False)\n",
    "companies = create_city_state_one_hot(companies, companies)\n",
    "companies = companies.drop('city_feature')\n",
    "\n",
    "# text ('about', 'slogan', 'specialties') features\n",
    "companies = embedding_text_features(companies, companies, ['about', 'slogan', 'specialties'])\n",
    "\n",
    "# create feature df after pre process   \n",
    "features_columns = [col for col in companies.columns if 'feature' in col]\n",
    "features_df = companies.select(features_columns + ['id'])\n",
    "\n",
    "# Assemble numeric features into a vector\n",
    "assembler = VectorAssembler(inputCols=features_columns, outputCol=\"features\")\n",
    "features_df = assembler.transform(features_df)\n",
    "\n",
    "features_df = features_df.select('id', 'features')"
   ]
  },
  {
   "cell_type": "markdown",
   "metadata": {
    "application/vnd.databricks.v1+cell": {
     "cellMetadata": {},
     "inputWidgets": {},
     "nuid": "41b5fbcd-175f-4ae7-85e6-951d2a7434cc",
     "showTitle": false,
     "title": ""
    }
   },
   "source": [
    "# Cosine similarity between old and new companies"
   ]
  },
  {
   "cell_type": "code",
   "execution_count": 0,
   "metadata": {
    "application/vnd.databricks.v1+cell": {
     "cellMetadata": {
      "byteLimit": 2048000,
      "rowLimit": 10000
     },
     "inputWidgets": {},
     "nuid": "5e4895d2-d0bf-4303-a0f2-75417e40f690",
     "showTitle": false,
     "title": ""
    }
   },
   "outputs": [
    {
     "output_type": "display_data",
     "data": {
      "text/html": [
       "<style scoped>\n",
       "  .table-result-container {\n",
       "    max-height: 300px;\n",
       "    overflow: auto;\n",
       "  }\n",
       "  table, th, td {\n",
       "    border: 1px solid black;\n",
       "    border-collapse: collapse;\n",
       "  }\n",
       "  th, td {\n",
       "    padding: 5px;\n",
       "  }\n",
       "  th {\n",
       "    text-align: left;\n",
       "  }\n",
       "</style><div class='table-result-container'><table class='table-result'><thead style='background-color: white'><tr><th>old_company_id</th><th>new_company_id</th><th>similarity_score</th></tr></thead><tbody><tr><td>koecreate</td><td>traaaaaaaaaaaaa</td><td>0.99587995</td></tr><tr><td>executive-education-tulane-universty</td><td>traaaaaaaaaaaaa</td><td>0.9950943</td></tr><tr><td>regionalpavementmaintenance</td><td>traaaaaaaaaaaaa</td><td>0.99480826</td></tr><tr><td>scarlett-protective-inc-</td><td>traaaaaaaaaaaaa</td><td>0.9936825</td></tr><tr><td>alphapex-llc</td><td>traaaaaaaaaaaaa</td><td>0.99290925</td></tr><tr><td>proterra-ag</td><td>rasss</td><td>0.98869455</td></tr><tr><td>iscar-metals</td><td>systematic-group-of-companies</td><td>0.9874798</td></tr><tr><td>corporatecareit</td><td>supplier-community-connect</td><td>0.98604745</td></tr><tr><td>unemployed-philosophers-inc.</td><td>smartz-inc</td><td>0.9847355</td></tr><tr><td>drinktap</td><td>smartz-inc</td><td>0.9845134</td></tr><tr><td>price-painting</td><td>anco-underground-llc</td><td>0.984446</td></tr><tr><td>haysel</td><td>smartz-inc</td><td>0.98273945</td></tr><tr><td>iscar-metals</td><td>smartz-inc</td><td>0.9826509</td></tr><tr><td>sneeze-it</td><td>the-best-workplace</td><td>0.98254615</td></tr><tr><td>iron-tribe-fitness</td><td>the-best-workplace</td><td>0.98239565</td></tr><tr><td>citadelgroup</td><td>source-wellness</td><td>0.9822462</td></tr><tr><td>carls-place</td><td>supplier-community-connect</td><td>0.9821116</td></tr><tr><td>offsetpartners</td><td>mywae</td><td>0.98210883</td></tr><tr><td>dlvr</td><td>inside-out-defense</td><td>0.9819733</td></tr><tr><td>starconfs</td><td>source-wellness</td><td>0.98193556</td></tr><tr><td>starconfs</td><td>greenlight-group-usa</td><td>0.98168546</td></tr><tr><td>soccer-parenting-association</td><td>anco-underground-llc</td><td>0.9815267</td></tr><tr><td>haysel</td><td>anco-underground-llc</td><td>0.9813786</td></tr><tr><td>dockyard</td><td>function-growth-agency</td><td>0.9807581</td></tr><tr><td>r-dq</td><td>s4-connect</td><td>0.98075646</td></tr><tr><td>nimbussecure</td><td>supplier-community-connect</td><td>0.98069566</td></tr><tr><td>iscar-metals</td><td>zenithcom</td><td>0.9804741</td></tr><tr><td>buckhead-document-pros</td><td>inside-out-defense</td><td>0.9804587</td></tr><tr><td>cbs---the-center-for-business-solutions</td><td>function-growth-agency</td><td>0.9803926</td></tr><tr><td>buckhead-document-pros</td><td>one-project-away</td><td>0.9800993</td></tr><tr><td>the-birmingham-group</td><td>source-wellness</td><td>0.97990316</td></tr><tr><td>wilkinson-wolfe-associates</td><td>function-growth-agency</td><td>0.9798772</td></tr><tr><td>eci-groups</td><td>eagleitinc</td><td>0.9798596</td></tr><tr><td>erthos</td><td>eagleitinc</td><td>0.97951597</td></tr><tr><td>analogteams</td><td>treasure-map</td><td>0.9794604</td></tr><tr><td>lgbtccil</td><td>smartz-inc</td><td>0.9793962</td></tr><tr><td>analogteams</td><td>inside-out-defense</td><td>0.9793136</td></tr><tr><td>princeton-america-us</td><td>source-wellness</td><td>0.97928524</td></tr><tr><td>geminihealth</td><td>inside-out-defense</td><td>0.9792452</td></tr><tr><td>paint-your-power</td><td>mywae</td><td>0.9791883</td></tr><tr><td>arias-pro</td><td>treasure-map</td><td>0.9790007</td></tr><tr><td>abcofgeorgia</td><td>source-wellness</td><td>0.9788473</td></tr><tr><td>hero-development-llc</td><td>supplier-community-connect</td><td>0.9787592</td></tr><tr><td>analogteams</td><td>eagleitinc</td><td>0.97874355</td></tr><tr><td>managed-business-solutions</td><td>function-growth-agency</td><td>0.9787394</td></tr><tr><td>stock-and-leader</td><td>thehumangroupkc</td><td>0.97871166</td></tr><tr><td>drinktap</td><td>supplier-community-connect</td><td>0.97866666</td></tr><tr><td>inspire-weight-loss</td><td>greenlight-group-usa</td><td>0.97866493</td></tr><tr><td>erthos</td><td>source-wellness</td><td>0.9786268</td></tr><tr><td>the-birmingham-group</td><td>greenlight-group-usa</td><td>0.978576</td></tr></tbody></table></div>"
      ]
     },
     "metadata": {
      "application/vnd.databricks.v1+output": {
       "addedWidgets": {},
       "aggData": [],
       "aggError": "",
       "aggOverflow": false,
       "aggSchema": [],
       "aggSeriesLimitReached": false,
       "aggType": "",
       "arguments": {},
       "columnCustomDisplayInfos": {},
       "data": [
        [
         "koecreate",
         "traaaaaaaaaaaaa",
         0.99587995
        ],
        [
         "executive-education-tulane-universty",
         "traaaaaaaaaaaaa",
         0.9950943
        ],
        [
         "regionalpavementmaintenance",
         "traaaaaaaaaaaaa",
         0.99480826
        ],
        [
         "scarlett-protective-inc-",
         "traaaaaaaaaaaaa",
         0.9936825
        ],
        [
         "alphapex-llc",
         "traaaaaaaaaaaaa",
         0.99290925
        ],
        [
         "proterra-ag",
         "rasss",
         0.98869455
        ],
        [
         "iscar-metals",
         "systematic-group-of-companies",
         0.9874798
        ],
        [
         "corporatecareit",
         "supplier-community-connect",
         0.98604745
        ],
        [
         "unemployed-philosophers-inc.",
         "smartz-inc",
         0.9847355
        ],
        [
         "drinktap",
         "smartz-inc",
         0.9845134
        ],
        [
         "price-painting",
         "anco-underground-llc",
         0.984446
        ],
        [
         "haysel",
         "smartz-inc",
         0.98273945
        ],
        [
         "iscar-metals",
         "smartz-inc",
         0.9826509
        ],
        [
         "sneeze-it",
         "the-best-workplace",
         0.98254615
        ],
        [
         "iron-tribe-fitness",
         "the-best-workplace",
         0.98239565
        ],
        [
         "citadelgroup",
         "source-wellness",
         0.9822462
        ],
        [
         "carls-place",
         "supplier-community-connect",
         0.9821116
        ],
        [
         "offsetpartners",
         "mywae",
         0.98210883
        ],
        [
         "dlvr",
         "inside-out-defense",
         0.9819733
        ],
        [
         "starconfs",
         "source-wellness",
         0.98193556
        ],
        [
         "starconfs",
         "greenlight-group-usa",
         0.98168546
        ],
        [
         "soccer-parenting-association",
         "anco-underground-llc",
         0.9815267
        ],
        [
         "haysel",
         "anco-underground-llc",
         0.9813786
        ],
        [
         "dockyard",
         "function-growth-agency",
         0.9807581
        ],
        [
         "r-dq",
         "s4-connect",
         0.98075646
        ],
        [
         "nimbussecure",
         "supplier-community-connect",
         0.98069566
        ],
        [
         "iscar-metals",
         "zenithcom",
         0.9804741
        ],
        [
         "buckhead-document-pros",
         "inside-out-defense",
         0.9804587
        ],
        [
         "cbs---the-center-for-business-solutions",
         "function-growth-agency",
         0.9803926
        ],
        [
         "buckhead-document-pros",
         "one-project-away",
         0.9800993
        ],
        [
         "the-birmingham-group",
         "source-wellness",
         0.97990316
        ],
        [
         "wilkinson-wolfe-associates",
         "function-growth-agency",
         0.9798772
        ],
        [
         "eci-groups",
         "eagleitinc",
         0.9798596
        ],
        [
         "erthos",
         "eagleitinc",
         0.97951597
        ],
        [
         "analogteams",
         "treasure-map",
         0.9794604
        ],
        [
         "lgbtccil",
         "smartz-inc",
         0.9793962
        ],
        [
         "analogteams",
         "inside-out-defense",
         0.9793136
        ],
        [
         "princeton-america-us",
         "source-wellness",
         0.97928524
        ],
        [
         "geminihealth",
         "inside-out-defense",
         0.9792452
        ],
        [
         "paint-your-power",
         "mywae",
         0.9791883
        ],
        [
         "arias-pro",
         "treasure-map",
         0.9790007
        ],
        [
         "abcofgeorgia",
         "source-wellness",
         0.9788473
        ],
        [
         "hero-development-llc",
         "supplier-community-connect",
         0.9787592
        ],
        [
         "analogteams",
         "eagleitinc",
         0.97874355
        ],
        [
         "managed-business-solutions",
         "function-growth-agency",
         0.9787394
        ],
        [
         "stock-and-leader",
         "thehumangroupkc",
         0.97871166
        ],
        [
         "drinktap",
         "supplier-community-connect",
         0.97866666
        ],
        [
         "inspire-weight-loss",
         "greenlight-group-usa",
         0.97866493
        ],
        [
         "erthos",
         "source-wellness",
         0.9786268
        ],
        [
         "the-birmingham-group",
         "greenlight-group-usa",
         0.978576
        ]
       ],
       "datasetInfos": [],
       "dbfsResultPath": null,
       "isJsonSchema": true,
       "metadata": {},
       "overflow": false,
       "plotOptions": {
        "customPlotOptions": {},
        "displayType": "table",
        "pivotAggregation": null,
        "pivotColumns": null,
        "xColumns": null,
        "yColumns": null
       },
       "removedWidgets": [],
       "schema": [
        {
         "metadata": "{}",
         "name": "old_company_id",
         "type": "\"string\""
        },
        {
         "metadata": "{}",
         "name": "new_company_id",
         "type": "\"string\""
        },
        {
         "metadata": "{}",
         "name": "similarity_score",
         "type": "\"float\""
        }
       ],
       "type": "table"
      }
     },
     "output_type": "display_data"
    }
   ],
   "source": [
    "old_companies = old_companies.join(features_df, \"id\", 'inner')\n",
    "new_companies = new_companies.join(features_df, \"id\", 'inner')\n",
    "old_company = old_companies.withColumnRenamed(\"id\", \"old_company_id\").withColumnRenamed(\"features\", \"old_features\").select('old_company_id','old_features')\n",
    "new_company = new_companies.withColumnRenamed(\"id\", \"new_company_id\").withColumnRenamed(\"features\", \"new_features\").select('new_company_id','new_features')\n",
    "old_vs_new_similarity_df = old_company.crossJoin(new_company)\n",
    "\n",
    "def cosine_similarity(vec1, vec2):\n",
    "    dot_product = float(vec1.dot(vec2))\n",
    "    norm_vec1 = float(vec1.norm(2))\n",
    "    norm_vec2 = float(vec2.norm(2))\n",
    "    similarity = dot_product / (norm_vec1 * norm_vec2)\n",
    "    return similarity\n",
    "cosine_similarity_udf = F.udf(cosine_similarity, FloatType())\n",
    "\n",
    "old_vs_new_similarity_df = old_vs_new_similarity_df.withColumn(\"similarity_score\", cosine_similarity_udf(\"old_features\", \"new_features\"))\n",
    "old_vs_new_similarity_df.orderBy('similarity_score', ascending=False).select('old_company_id', 'new_company_id', 'similarity_score').limit(50).display()"
   ]
  },
  {
   "cell_type": "markdown",
   "metadata": {
    "application/vnd.databricks.v1+cell": {
     "cellMetadata": {},
     "inputWidgets": {},
     "nuid": "997a490d-31d1-41f7-bdcd-f238838012a3",
     "showTitle": false,
     "title": ""
    }
   },
   "source": [
    "# Find the similar old company to each new company and assign a stability score accordingly."
   ]
  },
  {
   "cell_type": "code",
   "execution_count": 0,
   "metadata": {
    "application/vnd.databricks.v1+cell": {
     "cellMetadata": {
      "byteLimit": 2048000,
      "rowLimit": 10000
     },
     "inputWidgets": {},
     "nuid": "6e8bae88-b55d-4842-8ddd-2f89b5ca946a",
     "showTitle": false,
     "title": ""
    }
   },
   "outputs": [
    {
     "output_type": "display_data",
     "data": {
      "text/html": [
       "<style scoped>\n",
       "  .table-result-container {\n",
       "    max-height: 300px;\n",
       "    overflow: auto;\n",
       "  }\n",
       "  table, th, td {\n",
       "    border: 1px solid black;\n",
       "    border-collapse: collapse;\n",
       "  }\n",
       "  th, td {\n",
       "    padding: 5px;\n",
       "  }\n",
       "  th {\n",
       "    text-align: left;\n",
       "  }\n",
       "</style><div class='table-result-container'><table class='table-result'><thead style='background-color: white'><tr><th>id</th><th>predicted_stability</th></tr></thead><tbody><tr><td>redwood-services-llc</td><td>9.434979370564726</td></tr><tr><td>bunnystudio</td><td>17.476356970195607</td></tr><tr><td>splitappstore</td><td>12.39546350115574</td></tr><tr><td>test-banks</td><td>9.235585630795063</td></tr><tr><td>workshoplocal</td><td>18.56399241812415</td></tr><tr><td>eucalyptushealthcare</td><td>9.374118441911872</td></tr><tr><td>shopclairvaux</td><td>11.912716406548597</td></tr><tr><td>theculturexyz</td><td>13.466712399426305</td></tr><tr><td>in-the-worx</td><td>9.964645495362275</td></tr><tr><td>vita-health</td><td>15.63170861722506</td></tr><tr><td>jewelry-haus</td><td>2.834069728921235</td></tr><tr><td>return-health</td><td>11.095999741196811</td></tr><tr><td>marinastudios</td><td>11.290573663279039</td></tr><tr><td>chicken-out</td><td>15.79579828961203</td></tr><tr><td>black-in-corporate</td><td>14.932258789517123</td></tr><tr><td>culturellc</td><td>8.921966372335866</td></tr><tr><td>people-power-project</td><td>13.73237608836582</td></tr><tr><td>formescience</td><td>12.261296063253493</td></tr><tr><td>gocanvus</td><td>8.118489899691198</td></tr><tr><td>livingroomla</td><td>17.01695451937772</td></tr><tr><td>concourse-tools</td><td>11.221766292303114</td></tr><tr><td>halifax-solutions</td><td>10.451828314275755</td></tr><tr><td>minduphq</td><td>5.781284749674021</td></tr><tr><td>the-maybourne-beverly-hills</td><td>10.400569346048526</td></tr><tr><td>blush-design</td><td>12.474094421717174</td></tr><tr><td>myrevea</td><td>9.667963547115875</td></tr><tr><td>joinsqrl</td><td>13.272967717454794</td></tr><tr><td>all-these-wonders%E2%84%A2</td><td>10.550217294585558</td></tr><tr><td>bervann-clubhouse-world-markets</td><td>9.834253284507946</td></tr><tr><td>marketer-co</td><td>6.233084607285022</td></tr><tr><td>launchnh</td><td>12.841787691217519</td></tr><tr><td>intch-inc</td><td>8.189951640538926</td></tr><tr><td>nomondays</td><td>9.841808352612208</td></tr><tr><td>park-magazine</td><td>8.648952480583475</td></tr><tr><td>joinsoundboard</td><td>10.047444488703063</td></tr><tr><td>divercity-io</td><td>10.458905619092452</td></tr><tr><td>belwestus</td><td>10.40544701608702</td></tr><tr><td>opala-inc</td><td>10.989614789408465</td></tr><tr><td>usepatch</td><td>13.735383607315885</td></tr><tr><td>pieces-of-i-llc</td><td>10.890049197557047</td></tr><tr><td>strake-app</td><td>10.075784563337521</td></tr><tr><td>pearlhq</td><td>9.758136705239938</td></tr><tr><td>circle-strategies-inc</td><td>11.028794780660743</td></tr><tr><td>novel-commerce</td><td>9.241487943321799</td></tr><tr><td>institute-for-mathematical-and-statistical-innovation-imsi</td><td>6.504134250763748</td></tr><tr><td>flyvolato</td><td>12.26168214475476</td></tr><tr><td>healtogether</td><td>10.056330548072703</td></tr><tr><td>company-policy-studio</td><td>9.188993181380077</td></tr><tr><td>flexenergysales</td><td>11.812492395170167</td></tr><tr><td>tryqueue</td><td>5.806866364029517</td></tr><tr><td>audio-bee</td><td>8.238290039687818</td></tr><tr><td>truveai</td><td>11.29013140312597</td></tr><tr><td>north-37</td><td>10.475157957525925</td></tr><tr><td>paydayafrica</td><td>8.236847228352437</td></tr><tr><td>cow-ork</td><td>12.1033726704377</td></tr><tr><td>as-one-consulting</td><td>10.106905664124586</td></tr><tr><td>efhuttongroup</td><td>11.2755423433536</td></tr><tr><td>bay-area-community-health</td><td>8.067561845757586</td></tr><tr><td>thespaceauto</td><td>9.69970414555912</td></tr><tr><td>planning-hub</td><td>9.056773438507657</td></tr><tr><td>19th-news</td><td>12.498355399468787</td></tr><tr><td>dropingaming</td><td>14.174848849235518</td></tr><tr><td>patient-care-medical-group</td><td>11.600735700004448</td></tr><tr><td>buzzcastplatform</td><td>10.626924428393847</td></tr><tr><td>re-mint</td><td>7.900151635974996</td></tr><tr><td>treasure-map</td><td>14.009821048725595</td></tr><tr><td>viking-pwr</td><td>20.04241695756253</td></tr><tr><td>the-manufacturing-come-up</td><td>14.147141889928967</td></tr><tr><td>names-and-facts</td><td>10.11005066162202</td></tr><tr><td>internetpublishinggroup</td><td>11.838115381291255</td></tr><tr><td>ramped-careers</td><td>12.276363548236096</td></tr><tr><td>indure</td><td>11.470419125569803</td></tr><tr><td>cdmarketing</td><td>13.609920020858578</td></tr><tr><td>ribboneducation</td><td>8.082903768654738</td></tr><tr><td>sona-stream</td><td>10.419446929466437</td></tr><tr><td>cultivate-grand-rapids</td><td>5.688593599576786</td></tr><tr><td>fusionnow</td><td>12.685039785935247</td></tr><tr><td>properbrands</td><td>11.225264715726743</td></tr><tr><td>teremana-tequila</td><td>9.781189681428033</td></tr><tr><td>solosolutionllc</td><td>8.149680891112679</td></tr><tr><td>lazy-dog</td><td>10.086690912564132</td></tr><tr><td>remote-marketing-jobs</td><td>14.336618780254133</td></tr><tr><td>parclco</td><td>15.988158595051702</td></tr><tr><td>geniustalentgroup</td><td>10.096142990407225</td></tr><tr><td>growthfactoryhq</td><td>19.269166986866583</td></tr><tr><td>ck-studio-graphic-design</td><td>10.088132452054499</td></tr><tr><td>thrive-staffing</td><td>11.03596160064345</td></tr><tr><td>mindandmatch</td><td>4.211499750705734</td></tr><tr><td>next-weekend</td><td>14.687211403134029</td></tr><tr><td>msls-uic-college-of-pharmacy-student-chapter</td><td>9.648111084471022</td></tr><tr><td>next-level-marketing1</td><td>7.843903284866115</td></tr><tr><td>this-is-the-place-sports</td><td>8.192732761344772</td></tr><tr><td>popupcommerce</td><td>10.003368294698962</td></tr><tr><td>defientco</td><td>8.619669956403154</td></tr><tr><td>merit-manufacturing-electronics-rework-institute-for-training-of-lccc</td><td>10.035196774164168</td></tr><tr><td>plagaco</td><td>11.059282951615325</td></tr><tr><td>pasitoinc</td><td>13.409959526129025</td></tr><tr><td>reflex-dev</td><td>13.018042765086282</td></tr><tr><td>dr-leadership-llc</td><td>10.018568667742336</td></tr><tr><td>staffnow</td><td>11.251353429176122</td></tr><tr><td>soft-builder</td><td>9.989283193153202</td></tr><tr><td>everlyinsurance</td><td>14.437502204914193</td></tr><tr><td>kodea-lts</td><td>3.703278737971393</td></tr><tr><td>cadrestyle</td><td>8.830151031391773</td></tr><tr><td>future-forum-by-pi</td><td>9.55630125225595</td></tr><tr><td>orkes-inc</td><td>7.589381435104316</td></tr><tr><td>capitalraisenet</td><td>9.741042639753028</td></tr><tr><td>koxa</td><td>10.970089930949383</td></tr><tr><td>ctrliq</td><td>9.792537674050575</td></tr><tr><td>d%C3%B3nde</td><td>13.855813324781007</td></tr><tr><td>bound-intl</td><td>9.253814761293556</td></tr><tr><td>steeltech-us</td><td>12.20147569177048</td></tr><tr><td>thepostteam</td><td>10.823082530924749</td></tr><tr><td>protectllc</td><td>8.518664042571881</td></tr><tr><td>juju-delivery</td><td>13.50024586052062</td></tr><tr><td>takko</td><td>8.21241983430334</td></tr><tr><td>technepro</td><td>17.726957985575687</td></tr><tr><td>learningsource</td><td>8.54103899047974</td></tr><tr><td>boundbox</td><td>7.100540408673619</td></tr><tr><td>rechallstl</td><td>26.59185330884264</td></tr><tr><td>pollencareers</td><td>11.181531144146323</td></tr><tr><td>pinchmedia</td><td>8.424257453214432</td></tr><tr><td>ceo-foundation</td><td>12.921342041991645</td></tr><tr><td>hk-cheung-shing-trading-development-usa-inc</td><td>8.256622769385482</td></tr><tr><td>xenter-corp</td><td>10.408050444121262</td></tr><tr><td>high-performance-sports-and-training-solutions</td><td>8.49021010125753</td></tr><tr><td>the-primo</td><td>10.545978344008391</td></tr><tr><td>lincoln-group-executive-search</td><td>10.596121578063798</td></tr><tr><td>chordcommerce</td><td>19.69822752691553</td></tr><tr><td>new-york-focus</td><td>10.73421770121614</td></tr><tr><td>telier</td><td>14.920088728025728</td></tr><tr><td>scalearchitects</td><td>11.917668411249114</td></tr><tr><td>mywae</td><td>11.102265464620212</td></tr><tr><td>cardinal-consulting-solutions</td><td>10.6352157357817</td></tr><tr><td>qlmc</td><td>11.96866837763487</td></tr><tr><td>ned-medical-inc</td><td>15.214860443542396</td></tr><tr><td>getcerebral</td><td>7.571114364484082</td></tr><tr><td>deeper-walk</td><td>10.41764721931661</td></tr><tr><td>gaya-ai</td><td>9.36585052835099</td></tr><tr><td>encoder-it-bd</td><td>17.67670981352498</td></tr><tr><td>experimentworld</td><td>13.598268117403608</td></tr><tr><td>datedesti</td><td>15.345399828099646</td></tr><tr><td>may-jung</td><td>10.315700136729903</td></tr><tr><td>az-vc</td><td>9.198547479670962</td></tr><tr><td>home2-suites-by-hilton-normal-il</td><td>12.091015378827446</td></tr><tr><td>oversightuav</td><td>10.147140008751286</td></tr><tr><td>adaptivegrowth</td><td>10.628026863160953</td></tr><tr><td>decibelads</td><td>7.923261855003628</td></tr><tr><td>anco-underground-llc</td><td>12.850428502561764</td></tr><tr><td>team-remoto</td><td>6.932028961684476</td></tr><tr><td>whataweek</td><td>11.701867456925267</td></tr><tr><td>joinpave</td><td>11.973337023329353</td></tr><tr><td>tasting-club</td><td>18.398972524066437</td></tr><tr><td>the-promotars</td><td>10.288370099995753</td></tr><tr><td>connections-to-care-llc</td><td>11.588574973785684</td></tr><tr><td>kineticedgeio</td><td>10.194422090305094</td></tr><tr><td>eagleitinc</td><td>11.113885111157</td></tr><tr><td>design-with-sol</td><td>9.670895134696151</td></tr><tr><td>orange-charger</td><td>8.599354904229195</td></tr><tr><td>dockmedical</td><td>11.328612633900525</td></tr><tr><td>amcacert</td><td>9.60116297041635</td></tr><tr><td>b-jetting-llc</td><td>10.397050749262345</td></tr><tr><td>metastability</td><td>9.57426753201092</td></tr><tr><td>the-clancysf</td><td>11.236346974979622</td></tr><tr><td>keystone-foundation-llc</td><td>12.70982384845434</td></tr><tr><td>myalee</td><td>12.391556262343533</td></tr><tr><td>recognize-violence-change-culture</td><td>7.971138145325911</td></tr><tr><td>fl4k</td><td>15.109167888953042</td></tr><tr><td>porsche-ontario</td><td>4.042728293375051</td></tr><tr><td>royainstituteofstudies</td><td>10.999070567913664</td></tr><tr><td>archiehi</td><td>10.525152735392235</td></tr><tr><td>withfig</td><td>18.730122690148814</td></tr><tr><td>lincolnleadership</td><td>13.412296827310234</td></tr><tr><td>aimwithswan</td><td>8.66982819048743</td></tr><tr><td>ftrworld</td><td>10.675938362297137</td></tr><tr><td>onlytheelite</td><td>6.923858598991996</td></tr><tr><td>supplier-community-connect</td><td>13.8270729894027</td></tr><tr><td>handsandfeetfl</td><td>9.061569307362255</td></tr><tr><td>saks-com</td><td>9.966216830451923</td></tr><tr><td>intheclub</td><td>22.5751271012228</td></tr><tr><td>lumininetwork</td><td>9.713095925418905</td></tr><tr><td>joinarena</td><td>10.478262842287332</td></tr><tr><td>theradical1s</td><td>9.26989404687015</td></tr><tr><td>half-past-nine</td><td>10.92660743374425</td></tr><tr><td>reemgvl</td><td>5.172040216394152</td></tr><tr><td>ethossupport</td><td>13.474378863864393</td></tr><tr><td>forge-buffalo</td><td>11.08990459584789</td></tr><tr><td>joingroops</td><td>10.046244123632935</td></tr><tr><td>all-digital-am</td><td>11.34577966399216</td></tr><tr><td>billing-llc</td><td>11.512494720525524</td></tr><tr><td>greenlight-group-usa</td><td>10.848190230972564</td></tr><tr><td>squiggly</td><td>14.45626646269734</td></tr><tr><td>vastspace</td><td>14.71638378339729</td></tr><tr><td>loopbaby</td><td>6.947109619375437</td></tr><tr><td>public-impact-analytics-science-lab-pias-lab-at-harvard</td><td>9.406738099604146</td></tr><tr><td>plantiful-tech</td><td>26.276789696754328</td></tr><tr><td>august-hill</td><td>9.303471315393105</td></tr><tr><td>virtual-business-solutions-charlotte-nc</td><td>13.574375174179623</td></tr><tr><td>respectthemoon</td><td>9.815252415394987</td></tr><tr><td>kevala-care</td><td>8.575311465871492</td></tr><tr><td>senecalife</td><td>7.168564212829518</td></tr><tr><td>one-project-away</td><td>11.62260279637654</td></tr><tr><td>nodal-power</td><td>12.250200666297959</td></tr><tr><td>hayman-woodward-human-capital</td><td>12.146718330358937</td></tr><tr><td>overlinevc</td><td>11.611463591998005</td></tr><tr><td>blueprintmanaged</td><td>8.797017217372263</td></tr><tr><td>dreamequal</td><td>4.9093328905477165</td></tr><tr><td>ancoatsmn</td><td>22.047865999176413</td></tr><tr><td>toast-all-day</td><td>7.775860823636076</td></tr><tr><td>making-it-media-llc</td><td>9.178444963110381</td></tr><tr><td>dallascomedyclub</td><td>10.209591665073942</td></tr><tr><td>credo-health</td><td>10.325490955073018</td></tr><tr><td>kompassioncare</td><td>8.326543993598055</td></tr><tr><td>jordanfarmstn</td><td>17.63325886448158</td></tr><tr><td>buysellhaven</td><td>10.343684182770417</td></tr><tr><td>commonwealth-commercial-appraisal-group</td><td>8.504541464016487</td></tr><tr><td>peak-financial-llc</td><td>8.629508207415189</td></tr><tr><td>ruckdelivery</td><td>8.219791988012286</td></tr><tr><td>therollup</td><td>5.500477435460906</td></tr><tr><td>citylightmke</td><td>5.765618968448103</td></tr><tr><td>digitaljourni</td><td>11.913206804757843</td></tr><tr><td>hometogetherseattle</td><td>6.830627959947577</td></tr><tr><td>keep-safe-care</td><td>9.401496668417918</td></tr><tr><td>quae</td><td>5.6548629550350205</td></tr><tr><td>shared-drive</td><td>9.383912616527693</td></tr><tr><td>safetech-family</td><td>9.577101158480216</td></tr><tr><td>oklahoma-s-hydrogen-energy-and-fuel-cell-association-ok-hefca</td><td>17.992932917663197</td></tr><tr><td>trufetech</td><td>9.255394240165389</td></tr><tr><td>sir-unique</td><td>10.753787438095861</td></tr><tr><td>within-center</td><td>15.254057973785839</td></tr><tr><td>regalisphiladelphia</td><td>11.5503955985779</td></tr><tr><td>qira-management</td><td>8.585443036189666</td></tr><tr><td>covesa-alliance</td><td>12.699919950502903</td></tr><tr><td>mightyplus</td><td>6.321451521155931</td></tr><tr><td>connorlawpc</td><td>8.47298148628069</td></tr><tr><td>servicealignment</td><td>16.173051297557123</td></tr><tr><td>hire-with-near</td><td>7.177953355714531</td></tr><tr><td>my-modern-education</td><td>7.597889533661823</td></tr><tr><td>apartment-assistant</td><td>12.843827981072117</td></tr><tr><td>south-asian-house-llc</td><td>11.93919692985377</td></tr><tr><td>women-in-healthcare-michigan-chapter</td><td>6.786835727535112</td></tr><tr><td>village-of-becoming</td><td>12.405237727045805</td></tr><tr><td>bearnapp</td><td>10.549874107830313</td></tr><tr><td>reaching-across-communities-with-economics</td><td>9.885539952179515</td></tr><tr><td>getarbit</td><td>10.680519607769911</td></tr><tr><td>the-best-workplace</td><td>9.965492749924037</td></tr><tr><td>reciprocalrecruitment</td><td>9.973655487141759</td></tr><tr><td>prairiehealth</td><td>12.815965455533286</td></tr><tr><td>shield-illinois</td><td>18.1166353066646</td></tr><tr><td>hyatt-regency-salt-lake-city</td><td>10.241040299329109</td></tr><tr><td>eatdindin</td><td>11.963188885609824</td></tr><tr><td>kalder-xyz</td><td>11.670382637954681</td></tr><tr><td>joincandor</td><td>10.832814700132054</td></tr><tr><td>devdeer-tech-us</td><td>11.87845367471897</td></tr><tr><td>cfanadvisors</td><td>11.396192180774793</td></tr><tr><td>drinkchiki</td><td>14.509074644547544</td></tr><tr><td>radcliffe-radcliffe</td><td>8.521559762839946</td></tr><tr><td>pakettv</td><td>13.239247011968926</td></tr><tr><td>trending-fire-llc</td><td>12.274698092638145</td></tr><tr><td>peoplearetheanswer</td><td>13.141531238693684</td></tr><tr><td>acquireinvest</td><td>7.948381202177819</td></tr><tr><td>stanzaspace</td><td>8.397086676061258</td></tr><tr><td>boomerangkit</td><td>28.765509650526717</td></tr><tr><td>guzocares</td><td>10.914602559465683</td></tr><tr><td>round-one-business</td><td>15.152867540581639</td></tr><tr><td>jdf-hdm-spiralweld</td><td>10.500322052200437</td></tr><tr><td>diracinc</td><td>2.737918946656942</td></tr><tr><td>house17</td><td>14.218914343894474</td></tr><tr><td>du-monde-plateau</td><td>15.285211011384682</td></tr><tr><td>trystratos</td><td>6.994110549436965</td></tr><tr><td>ernestco</td><td>13.33063883351758</td></tr><tr><td>redwood-storage-capital</td><td>15.081049536462407</td></tr><tr><td>edipro-stl</td><td>5.492781152578556</td></tr><tr><td>ed-ai</td><td>17.37928199233714</td></tr><tr><td>cteleco</td><td>19.468523758363904</td></tr><tr><td>somoselpoder</td><td>8.89565227470516</td></tr><tr><td>hellorees</td><td>10.36368969600063</td></tr><tr><td>sky-ventures-innovate</td><td>9.397885004595981</td></tr><tr><td>thepindustry</td><td>8.9676479906238</td></tr><tr><td>bygtalent</td><td>10.771230100490639</td></tr><tr><td>degree-forward</td><td>8.659748281231378</td></tr><tr><td>picture-health</td><td>11.977681448041896</td></tr><tr><td>hopps-io</td><td>9.334769367427024</td></tr><tr><td>stereo-app</td><td>18.4308850528875</td></tr><tr><td>keysai</td><td>8.712399125789808</td></tr><tr><td>atlanta-prep</td><td>10.443621353461257</td></tr><tr><td>office-otter</td><td>11.731395595750099</td></tr><tr><td>trustpointgps</td><td>5.595068288060567</td></tr><tr><td>victory-technology</td><td>10.374167755096542</td></tr><tr><td>bewhatsgood</td><td>11.177301617239257</td></tr><tr><td>thanks-boomerang</td><td>16.940008726567452</td></tr><tr><td>state-of-sales</td><td>7.235202909913166</td></tr><tr><td>rapport-u</td><td>9.032443134555415</td></tr><tr><td>operationbaby</td><td>14.942537932156016</td></tr><tr><td>reyesassetmanagement</td><td>11.30742826993961</td></tr><tr><td>divinia-empowers-data</td><td>12.074803902241062</td></tr><tr><td>theexperiencex-com</td><td>11.319312675797534</td></tr><tr><td>aplaceandcompany</td><td>11.858466221688705</td></tr><tr><td>truenose</td><td>6.700004687346423</td></tr><tr><td>oursuccessgroup</td><td>10.205658789406048</td></tr><tr><td>goodsam-pbc</td><td>11.141372009909004</td></tr><tr><td>design-edge-co</td><td>11.670623750259145</td></tr><tr><td>hitss</td><td>17.661842261378915</td></tr><tr><td>primary-record</td><td>9.952756245841519</td></tr><tr><td>mobilitymi</td><td>9.001326782607215</td></tr><tr><td>promenadeai</td><td>10.753658255594223</td></tr><tr><td>andconsultinggroup</td><td>6.785837658348138</td></tr><tr><td>anywhereappio</td><td>7.868483410816181</td></tr><tr><td>scholar-finder-llc</td><td>11.450637903384989</td></tr><tr><td>audioup</td><td>7.761915285931155</td></tr><tr><td>croftco2</td><td>9.874977124442976</td></tr><tr><td>dignoscore</td><td>10.297122566318501</td></tr><tr><td>agility-bank</td><td>10.165083976125068</td></tr><tr><td>the-momentary</td><td>10.189381876894615</td></tr><tr><td>favorofvirginia</td><td>9.384567478966405</td></tr><tr><td>spacespark1</td><td>10.999557546897174</td></tr><tr><td>qualle</td><td>8.405083069585334</td></tr><tr><td>recruitbigfish</td><td>11.453134369008508</td></tr><tr><td>pearl-press-publication</td><td>7.193881548376642</td></tr><tr><td>cognitionads</td><td>13.621912403195386</td></tr><tr><td>properlabs</td><td>7.642525748522827</td></tr><tr><td>myacademy-shop</td><td>10.738874809454309</td></tr><tr><td>joinleland</td><td>12.33447572206693</td></tr><tr><td>lay-law-p-c</td><td>10.484767798705942</td></tr><tr><td>imaginary-friends-lab</td><td>8.599270678955518</td></tr><tr><td>american-leadership-academy-online</td><td>10.22175577769788</td></tr><tr><td>content-lab-inc</td><td>8.594813964251374</td></tr><tr><td>puffinstore</td><td>9.3906073931028</td></tr><tr><td>vault-money</td><td>5.926825195290334</td></tr><tr><td>function-growth-agency</td><td>9.316388989063569</td></tr><tr><td>the-big-we</td><td>8.803153460162395</td></tr><tr><td>30friends</td><td>7.556854607637918</td></tr><tr><td>kiwi-credito</td><td>12.976612649653994</td></tr><tr><td>appreciate-io</td><td>11.091083547095598</td></tr><tr><td>keepermatch</td><td>17.421147616258708</td></tr><tr><td>rasss</td><td>8.042803076426027</td></tr><tr><td>yassi</td><td>13.472398838385637</td></tr><tr><td>work-wolves-inc</td><td>13.46529281387488</td></tr><tr><td>nama-cbd</td><td>10.435887301740358</td></tr><tr><td>yellowstone-local</td><td>10.414377907010104</td></tr><tr><td>mission6</td><td>7.0694013728396445</td></tr><tr><td>street-view</td><td>10.408936601144516</td></tr><tr><td>waterfx</td><td>10.45415218754332</td></tr><tr><td>storyforimpact</td><td>13.03835672130014</td></tr><tr><td>besupernatural</td><td>12.393217410926473</td></tr><tr><td>url-media</td><td>11.567911013781591</td></tr><tr><td>artofimpact</td><td>10.534594338738527</td></tr><tr><td>sustainablecleaning</td><td>9.992804984770398</td></tr><tr><td>nova-wholesale-furniture</td><td>10.453457759455251</td></tr><tr><td>amd-pr</td><td>9.661405594187682</td></tr><tr><td>imagine-that-performance</td><td>11.434318892978737</td></tr><tr><td>apurposepartnership</td><td>9.13465883821409</td></tr><tr><td>lonch</td><td>8.718975244237805</td></tr><tr><td>forte-content</td><td>10.814889608283803</td></tr><tr><td>miss-excel</td><td>11.526640471395567</td></tr><tr><td>app%C3%A9tit</td><td>13.56020982790913</td></tr><tr><td>win-home-inspection-mcalester</td><td>11.99626511682486</td></tr><tr><td>guidedotco</td><td>14.748393803866225</td></tr><tr><td>letsdate</td><td>9.771920232796367</td></tr><tr><td>the-android-post</td><td>10.936996894381675</td></tr><tr><td>80-20ai</td><td>9.30474833151277</td></tr><tr><td>star-solar-inc</td><td>13.304344859168529</td></tr><tr><td>prosal-io</td><td>9.525574375979135</td></tr><tr><td>theleadly</td><td>7.37105030846787</td></tr><tr><td>via-scientific-inc</td><td>10.418155659271864</td></tr><tr><td>city-of-good</td><td>15.323174550534992</td></tr><tr><td>no-name-it-llc</td><td>6.313659030781616</td></tr><tr><td>the-museum-of-broadway</td><td>18.374041751640593</td></tr><tr><td>mayconstruct</td><td>8.865492267366069</td></tr><tr><td>risespringfield</td><td>9.024980848793218</td></tr><tr><td>kurier-tech</td><td>6.476526674483412</td></tr><tr><td>flagblockchain</td><td>10.731899511237902</td></tr><tr><td>mds-executive-coaching</td><td>8.941134574789535</td></tr><tr><td>deepautomotive</td><td>14.380911169345488</td></tr><tr><td>grown-in</td><td>11.602463340125771</td></tr><tr><td>harmoneyinc</td><td>8.6695021429999</td></tr><tr><td>localequity</td><td>11.993305662620822</td></tr><tr><td>your-taskforce1</td><td>12.88947063544633</td></tr><tr><td>usesinq</td><td>10.56577571111022</td></tr><tr><td>startupstudiovc</td><td>10.224247147354523</td></tr><tr><td>guaranteedincomevalidationeffort</td><td>10.464667375964694</td></tr><tr><td>worldaerospace</td><td>10.260257251766843</td></tr><tr><td>sold-with-summit</td><td>6.208881857407239</td></tr><tr><td>climatepledgearena</td><td>12.797803452344489</td></tr><tr><td>vistahighland</td><td>14.937121630985436</td></tr><tr><td>the-well-experiment</td><td>10.399357103023863</td></tr><tr><td>touchbbca</td><td>10.328489435488583</td></tr><tr><td>shopbasquet</td><td>13.841041015681583</td></tr><tr><td>s4-connect</td><td>12.952412267847901</td></tr><tr><td>useavenue</td><td>9.491911530662808</td></tr><tr><td>riverdistrictnola</td><td>10.617233529147</td></tr><tr><td>gobrewing</td><td>9.240161173257844</td></tr><tr><td>thecelery</td><td>7.586266940124051</td></tr><tr><td>facingsnft</td><td>13.393964644079562</td></tr><tr><td>officialchargeme</td><td>10.711506467718642</td></tr><tr><td>merge-api</td><td>10.398563020806767</td></tr><tr><td>pickleai</td><td>13.238530858173801</td></tr><tr><td>biztechllc</td><td>10.034679710805232</td></tr><tr><td>lazo-us</td><td>10.871518152426525</td></tr><tr><td>aza-soyul</td><td>10.189307986270219</td></tr><tr><td>upscaleorlando</td><td>12.640906955660228</td></tr><tr><td>voicesforvoicesa501c3nonprofitorganization</td><td>10.465082685407353</td></tr><tr><td>enmarketarena</td><td>9.061258036709427</td></tr><tr><td>ghsedge</td><td>18.346660198665223</td></tr><tr><td>bantercommunity</td><td>8.440726834172844</td></tr><tr><td>howmet-aerospace</td><td>9.352854339139418</td></tr><tr><td>animation-flow</td><td>11.797246974616368</td></tr><tr><td>limondaytrips</td><td>18.6191846842612</td></tr><tr><td>h2hmarketing-net</td><td>9.908091211069898</td></tr><tr><td>kinoo-inc</td><td>12.59124144251486</td></tr><tr><td>cyber-aware-resource-experience-care-partnerships</td><td>12.681502275122206</td></tr><tr><td>getpearl</td><td>10.807989442395801</td></tr><tr><td>360-sierra</td><td>10.860230238226157</td></tr><tr><td>rifthq</td><td>14.76966290317546</td></tr><tr><td>the90th</td><td>14.165949811938134</td></tr><tr><td>systems-dash</td><td>8.407330941614273</td></tr><tr><td>bookshoporg</td><td>21.985327968508265</td></tr><tr><td>divinerinc</td><td>6.124525402741938</td></tr><tr><td>almost-there</td><td>12.10672323930481</td></tr><tr><td>first-online-university</td><td>12.77268471874854</td></tr><tr><td>the-covid-commission</td><td>13.492998561325155</td></tr><tr><td>methodfi</td><td>10.19593769119647</td></tr><tr><td>good-talk-spanish</td><td>14.294081968409918</td></tr><tr><td>a1vendingcompany</td><td>10.708379548533387</td></tr><tr><td>iyk</td><td>9.57964046525459</td></tr><tr><td>smarttheme</td><td>7.270759339195756</td></tr><tr><td>takeup-ai</td><td>6.365730007603475</td></tr><tr><td>relativitytech</td><td>12.367116261315296</td></tr><tr><td>pacesai</td><td>11.779777335349436</td></tr><tr><td>launchgravity</td><td>11.865636839276965</td></tr><tr><td>vegasinferno</td><td>9.458261979299575</td></tr><tr><td>edelson</td><td>8.59064729746639</td></tr><tr><td>ecgocompany</td><td>6.331545256956359</td></tr><tr><td>asatechnologies1</td><td>8.613370721214139</td></tr><tr><td>the98</td><td>6.954429806376138</td></tr><tr><td>gold-claims-llc</td><td>11.843685433991208</td></tr><tr><td>daxton-hotel</td><td>9.37399358284735</td></tr><tr><td>upside-jobs</td><td>9.824951749496364</td></tr><tr><td>canoecollective</td><td>10.802055025278554</td></tr><tr><td>hawkeyeagency</td><td>8.905338798541408</td></tr><tr><td>toughleaf</td><td>13.525214730496213</td></tr><tr><td>cardamom-health</td><td>13.526933104076587</td></tr><tr><td>systematic-group-of-companies</td><td>10.887732895504769</td></tr><tr><td>i5-inc</td><td>10.417923660540485</td></tr><tr><td>forever-energy</td><td>14.11035703908059</td></tr><tr><td>hospitality-innovation-labs</td><td>12.969275057786438</td></tr><tr><td>mindsetcoaching</td><td>20.29489581809111</td></tr><tr><td>parqhq</td><td>8.741542063742044</td></tr><tr><td>evergreen-money</td><td>10.03498082501469</td></tr><tr><td>rise-legal-team</td><td>7.832083456379032</td></tr><tr><td>kodiakchemical</td><td>8.438005065174261</td></tr><tr><td>leadrevenue</td><td>11.932336965967792</td></tr><tr><td>tratta</td><td>11.431653048305003</td></tr><tr><td>traaaaaaaaaaaaa</td><td>7.168516801809258</td></tr><tr><td>women-in-chemicals-incorporated</td><td>10.226768199073602</td></tr><tr><td>flock-off</td><td>10.828538429607384</td></tr><tr><td>pactcapital</td><td>9.771215703534711</td></tr><tr><td>express-employment-professionals-woodbury-nj</td><td>10.26496639195698</td></tr><tr><td>katmai</td><td>8.079040157288988</td></tr><tr><td>university-hp</td><td>10.321158457472249</td></tr><tr><td>finaticorg</td><td>8.716059715817487</td></tr><tr><td>timberwalk</td><td>10.633095473839125</td></tr><tr><td>co-protectofficial</td><td>10.555953516092883</td></tr><tr><td>actual-energy-inc</td><td>9.589808082303145</td></tr><tr><td>usetemper</td><td>8.666047370761625</td></tr><tr><td>beautiful-technologies-inc</td><td>10.67943881811128</td></tr><tr><td>elie-mental-health-st-peters-mo</td><td>14.640530058038177</td></tr><tr><td>21-b</td><td>11.365286598239607</td></tr><tr><td>black-american-market</td><td>10.731442527019382</td></tr><tr><td>call-simulator</td><td>8.681690994531191</td></tr><tr><td>smartz-inc</td><td>16.03181586442514</td></tr><tr><td>propelcommunity</td><td>6.841195323813974</td></tr><tr><td>paymatters</td><td>13.906556583216693</td></tr><tr><td>mk-mediapro</td><td>8.576479603758909</td></tr><tr><td>stripcosmetics</td><td>6.399915184487294</td></tr><tr><td>withaerial</td><td>9.680844674725137</td></tr><tr><td>fulfilldotcom</td><td>11.07127603235881</td></tr><tr><td>dropshop-technologies-inc</td><td>14.760194337244231</td></tr><tr><td>hnalive</td><td>10.10975475012908</td></tr><tr><td>we-are-alder</td><td>4.893096404204139</td></tr><tr><td>floraforgood</td><td>9.684790585740071</td></tr><tr><td>quantillinois</td><td>5.449529150352992</td></tr><tr><td>isaachealth</td><td>10.151887792807763</td></tr><tr><td>montana-knife-company</td><td>9.290448320979417</td></tr><tr><td>sigma-forces</td><td>11.973090686071336</td></tr><tr><td>the-waves-wine</td><td>12.60745771893307</td></tr><tr><td>delraybeachmarket</td><td>12.34017420836106</td></tr><tr><td>tfli-us-inc</td><td>8.79057008845326</td></tr><tr><td>bx-op</td><td>9.495995580103113</td></tr><tr><td>vgic</td><td>6.573138333926668</td></tr><tr><td>secondsignal</td><td>17.090572716502592</td></tr><tr><td>3bulldogs</td><td>6.852882532369479</td></tr><tr><td>arenaadvisorygroup</td><td>9.320173443355737</td></tr><tr><td>ironstone-cre</td><td>10.202026672987706</td></tr><tr><td>rolli</td><td>6.786703149184986</td></tr><tr><td>bank-the-blue</td><td>9.457492670595967</td></tr><tr><td>tradesllc</td><td>6.122048579665253</td></tr><tr><td>limit-break</td><td>20.14099573863241</td></tr><tr><td>learn-coach-model-group</td><td>9.244957752714344</td></tr><tr><td>jukeboxagency</td><td>8.71073693136348</td></tr><tr><td>wisk-am-eatery</td><td>20.959554448124727</td></tr><tr><td>metaphase-design-group</td><td>10.036975264564802</td></tr><tr><td>searchisoverinfo</td><td>10.20897710225206</td></tr><tr><td>gateway-u</td><td>10.916339256775036</td></tr><tr><td>greenpotential</td><td>10.481726022318497</td></tr><tr><td>inside-out-defense</td><td>13.635464126424935</td></tr><tr><td>bccreative-llc</td><td>10.303197842013036</td></tr><tr><td>squarewaves</td><td>11.559461039919029</td></tr><tr><td>evrange</td><td>10.113351582011083</td></tr><tr><td>shipyardbuild</td><td>9.001264681011872</td></tr><tr><td>zanjero</td><td>9.183142907236936</td></tr><tr><td>the-wall-st-hotel</td><td>9.295257665377028</td></tr><tr><td>theversion2</td><td>10.314646293004417</td></tr><tr><td>lumosidentity</td><td>12.75040242768158</td></tr><tr><td>i-hospitality-usa-alliance</td><td>9.971581433071272</td></tr><tr><td>prme-global-students</td><td>7.301042620939805</td></tr><tr><td>oootravel</td><td>8.522577247100104</td></tr><tr><td>recipe-cup</td><td>10.194599988657927</td></tr><tr><td>nbsc-llc</td><td>12.619858042422484</td></tr><tr><td>tupelosmb</td><td>6.222294146836829</td></tr><tr><td>adaptivity-inc</td><td>12.016081795530628</td></tr><tr><td>28-research-inc</td><td>7.3648943158506786</td></tr><tr><td>grace-ling</td><td>11.210614282574086</td></tr><tr><td>hampton-north</td><td>9.808105102059265</td></tr><tr><td>people-possibility</td><td>8.887468423508407</td></tr><tr><td>made-online</td><td>25.910539566092808</td></tr><tr><td>hegroupcom</td><td>10.146803514153692</td></tr><tr><td>championrepresents</td><td>10.962343407180422</td></tr><tr><td>canna-xpress</td><td>11.288784623615886</td></tr><tr><td>remote-daily</td><td>10.809309592364109</td></tr><tr><td>wave-welcome</td><td>10.991064544752074</td></tr><tr><td>innessnewyork</td><td>13.601058985568963</td></tr><tr><td>source-wellness</td><td>9.649214018910612</td></tr><tr><td>leadership-compass-llc</td><td>9.247710309897036</td></tr><tr><td>the-social-hour</td><td>24.28111461482262</td></tr><tr><td>c-suite-network-women-s-coaching-consulting-council</td><td>12.544280843229183</td></tr><tr><td>cerebruminc</td><td>13.052815030466698</td></tr><tr><td>oakessentials</td><td>8.967621391113322</td></tr><tr><td>hi-peak-staffing-solutions</td><td>8.857721695556162</td></tr><tr><td>la-semiconductor</td><td>8.766916976713611</td></tr><tr><td>finish-safe-llc</td><td>8.692441965075094</td></tr><tr><td>ray-feighny-hartle-pllc</td><td>10.99197858715803</td></tr><tr><td>hotplanetrepairteam</td><td>9.290242382407854</td></tr><tr><td>we-identify</td><td>14.546826757685382</td></tr><tr><td>getpulseteam</td><td>8.719995002247902</td></tr><tr><td>allinteamsports</td><td>13.805321782206358</td></tr><tr><td>kcooper-media</td><td>11.39205203952594</td></tr><tr><td>joinmeow</td><td>8.491368597124547</td></tr><tr><td>greendoor-placement</td><td>7.793095393330432</td></tr><tr><td>frolickclub</td><td>10.055469789510733</td></tr><tr><td>thehumangroupkc</td><td>10.919557844074143</td></tr><tr><td>fodere-consulting</td><td>9.84471086291903</td></tr><tr><td>velera</td><td>18.55356655234996</td></tr><tr><td>beerfridge-official</td><td>22.18249936015958</td></tr><tr><td>crant</td><td>7.595171230018087</td></tr><tr><td>jump-shops</td><td>12.352382624804287</td></tr><tr><td>meta-lean</td><td>12.32532912369687</td></tr><tr><td>hovrbyhio</td><td>13.50960059980779</td></tr><tr><td>betterucare</td><td>11.519918197433181</td></tr><tr><td>claritycomm</td><td>10.655759057921548</td></tr><tr><td>mansfield-services-vt</td><td>4.228276908768044</td></tr><tr><td>legendhealth</td><td>11.434423399941458</td></tr><tr><td>nitrahq</td><td>8.625131613214302</td></tr><tr><td>wunderground-coffee</td><td>12.65314113437843</td></tr><tr><td>ampere-ev</td><td>12.473817546727709</td></tr><tr><td>benchmark-energy-llc</td><td>12.350626929442576</td></tr><tr><td>adaptive-edge-llc</td><td>12.735727450135744</td></tr><tr><td>irl-re</td><td>11.01271815991819</td></tr><tr><td>lovely-ppl</td><td>9.421187191805387</td></tr><tr><td>myfamhc</td><td>5.228097341019267</td></tr><tr><td>stigmaapp</td><td>8.129481523572238</td></tr><tr><td>kyndryl</td><td>8.876600300680764</td></tr><tr><td>landlovers</td><td>16.83660069829822</td></tr><tr><td>gethomr</td><td>11.039094546363078</td></tr><tr><td>cactus-solar-htx</td><td>9.703206196544123</td></tr><tr><td>creative-science-inc-llc</td><td>10.962829342220173</td></tr><tr><td>tyger-llc</td><td>11.38633167437251</td></tr><tr><td>zenithcom</td><td>7.874612306413454</td></tr><tr><td>loopy-technologies</td><td>10.512458581464903</td></tr><tr><td>marriott-dallas-uptown</td><td>12.06517555665025</td></tr><tr><td>consolidated-hospitality-supplies-chs</td><td>8.575429060619367</td></tr><tr><td>global-career-center-gcc</td><td>11.895960791824205</td></tr><tr><td>travel-to-hope</td><td>7.271034297615199</td></tr><tr><td>sbt-by-sandy</td><td>9.384619842809965</td></tr><tr><td>futuresre</td><td>12.277884112323717</td></tr><tr><td>moniebank</td><td>8.898257039927907</td></tr><tr><td>ai-health-tech</td><td>10.897815331538434</td></tr><tr><td>i-corps-hub-northeast-region</td><td>7.335443039617729</td></tr><tr><td>business-of-the-v</td><td>11.841902848772278</td></tr><tr><td>redline-athletics-sutton-square</td><td>6.083564752494991</td></tr><tr><td>safe-health-systems-inc</td><td>12.743082360414983</td></tr><tr><td>mutual-aid</td><td>9.903860707407913</td></tr><tr><td>thisisresidence</td><td>7.012446280845413</td></tr><tr><td>we-are-the-dead</td><td>12.290378104092454</td></tr><tr><td>harbor-health-team</td><td>11.275782320882715</td></tr><tr><td>handbook-creator</td><td>9.09702361055954</td></tr><tr><td>the-ad-girls</td><td>16.965538984665518</td></tr><tr><td>weareatpresent</td><td>14.057801537481378</td></tr><tr><td>cabletech</td><td>3.7527767497325497</td></tr><tr><td>the-ritz-carlton-new-york-nomad</td><td>16.046035390950774</td></tr><tr><td>variantfund</td><td>21.07836965914572</td></tr><tr><td>house-of-wise</td><td>13.534981547121523</td></tr><tr><td>coiled-computing</td><td>6.151164010914939</td></tr><tr><td>ot-park</td><td>6.896659978006981</td></tr><tr><td>beaches-daytona</td><td>9.603946382072587</td></tr><tr><td>wecelebrate-llc</td><td>14.787776979298627</td></tr><tr><td>helping-hands-community</td><td>6.115045863574359</td></tr><tr><td>impactostrategy</td><td>7.783267807445693</td></tr><tr><td>ai-sushila</td><td>10.176553657145389</td></tr></tbody></table></div>"
      ]
     },
     "metadata": {
      "application/vnd.databricks.v1+output": {
       "addedWidgets": {},
       "aggData": [],
       "aggError": "",
       "aggOverflow": false,
       "aggSchema": [],
       "aggSeriesLimitReached": false,
       "aggType": "",
       "arguments": {},
       "columnCustomDisplayInfos": {},
       "data": [
        [
         "redwood-services-llc",
         9.434979370564726
        ],
        [
         "bunnystudio",
         17.476356970195607
        ],
        [
         "splitappstore",
         12.39546350115574
        ],
        [
         "test-banks",
         9.235585630795063
        ],
        [
         "workshoplocal",
         18.56399241812415
        ],
        [
         "eucalyptushealthcare",
         9.374118441911872
        ],
        [
         "shopclairvaux",
         11.912716406548597
        ],
        [
         "theculturexyz",
         13.466712399426305
        ],
        [
         "in-the-worx",
         9.964645495362275
        ],
        [
         "vita-health",
         15.63170861722506
        ],
        [
         "jewelry-haus",
         2.834069728921235
        ],
        [
         "return-health",
         11.095999741196811
        ],
        [
         "marinastudios",
         11.290573663279039
        ],
        [
         "chicken-out",
         15.79579828961203
        ],
        [
         "black-in-corporate",
         14.932258789517123
        ],
        [
         "culturellc",
         8.921966372335866
        ],
        [
         "people-power-project",
         13.73237608836582
        ],
        [
         "formescience",
         12.261296063253493
        ],
        [
         "gocanvus",
         8.118489899691198
        ],
        [
         "livingroomla",
         17.01695451937772
        ],
        [
         "concourse-tools",
         11.221766292303114
        ],
        [
         "halifax-solutions",
         10.451828314275755
        ],
        [
         "minduphq",
         5.781284749674021
        ],
        [
         "the-maybourne-beverly-hills",
         10.400569346048526
        ],
        [
         "blush-design",
         12.474094421717174
        ],
        [
         "myrevea",
         9.667963547115875
        ],
        [
         "joinsqrl",
         13.272967717454794
        ],
        [
         "all-these-wonders%E2%84%A2",
         10.550217294585558
        ],
        [
         "bervann-clubhouse-world-markets",
         9.834253284507946
        ],
        [
         "marketer-co",
         6.233084607285022
        ],
        [
         "launchnh",
         12.841787691217519
        ],
        [
         "intch-inc",
         8.189951640538926
        ],
        [
         "nomondays",
         9.841808352612208
        ],
        [
         "park-magazine",
         8.648952480583475
        ],
        [
         "joinsoundboard",
         10.047444488703063
        ],
        [
         "divercity-io",
         10.458905619092452
        ],
        [
         "belwestus",
         10.40544701608702
        ],
        [
         "opala-inc",
         10.989614789408465
        ],
        [
         "usepatch",
         13.735383607315885
        ],
        [
         "pieces-of-i-llc",
         10.890049197557047
        ],
        [
         "strake-app",
         10.075784563337521
        ],
        [
         "pearlhq",
         9.758136705239938
        ],
        [
         "circle-strategies-inc",
         11.028794780660743
        ],
        [
         "novel-commerce",
         9.241487943321799
        ],
        [
         "institute-for-mathematical-and-statistical-innovation-imsi",
         6.504134250763748
        ],
        [
         "flyvolato",
         12.26168214475476
        ],
        [
         "healtogether",
         10.056330548072703
        ],
        [
         "company-policy-studio",
         9.188993181380077
        ],
        [
         "flexenergysales",
         11.812492395170167
        ],
        [
         "tryqueue",
         5.806866364029517
        ],
        [
         "audio-bee",
         8.238290039687818
        ],
        [
         "truveai",
         11.29013140312597
        ],
        [
         "north-37",
         10.475157957525925
        ],
        [
         "paydayafrica",
         8.236847228352437
        ],
        [
         "cow-ork",
         12.1033726704377
        ],
        [
         "as-one-consulting",
         10.106905664124586
        ],
        [
         "efhuttongroup",
         11.2755423433536
        ],
        [
         "bay-area-community-health",
         8.067561845757586
        ],
        [
         "thespaceauto",
         9.69970414555912
        ],
        [
         "planning-hub",
         9.056773438507657
        ],
        [
         "19th-news",
         12.498355399468787
        ],
        [
         "dropingaming",
         14.174848849235518
        ],
        [
         "patient-care-medical-group",
         11.600735700004448
        ],
        [
         "buzzcastplatform",
         10.626924428393847
        ],
        [
         "re-mint",
         7.900151635974996
        ],
        [
         "treasure-map",
         14.009821048725595
        ],
        [
         "viking-pwr",
         20.04241695756253
        ],
        [
         "the-manufacturing-come-up",
         14.147141889928967
        ],
        [
         "names-and-facts",
         10.11005066162202
        ],
        [
         "internetpublishinggroup",
         11.838115381291255
        ],
        [
         "ramped-careers",
         12.276363548236096
        ],
        [
         "indure",
         11.470419125569803
        ],
        [
         "cdmarketing",
         13.609920020858578
        ],
        [
         "ribboneducation",
         8.082903768654738
        ],
        [
         "sona-stream",
         10.419446929466437
        ],
        [
         "cultivate-grand-rapids",
         5.688593599576786
        ],
        [
         "fusionnow",
         12.685039785935247
        ],
        [
         "properbrands",
         11.225264715726743
        ],
        [
         "teremana-tequila",
         9.781189681428033
        ],
        [
         "solosolutionllc",
         8.149680891112679
        ],
        [
         "lazy-dog",
         10.086690912564132
        ],
        [
         "remote-marketing-jobs",
         14.336618780254133
        ],
        [
         "parclco",
         15.988158595051702
        ],
        [
         "geniustalentgroup",
         10.096142990407225
        ],
        [
         "growthfactoryhq",
         19.269166986866583
        ],
        [
         "ck-studio-graphic-design",
         10.088132452054499
        ],
        [
         "thrive-staffing",
         11.03596160064345
        ],
        [
         "mindandmatch",
         4.211499750705734
        ],
        [
         "next-weekend",
         14.687211403134029
        ],
        [
         "msls-uic-college-of-pharmacy-student-chapter",
         9.648111084471022
        ],
        [
         "next-level-marketing1",
         7.843903284866115
        ],
        [
         "this-is-the-place-sports",
         8.192732761344772
        ],
        [
         "popupcommerce",
         10.003368294698962
        ],
        [
         "defientco",
         8.619669956403154
        ],
        [
         "merit-manufacturing-electronics-rework-institute-for-training-of-lccc",
         10.035196774164168
        ],
        [
         "plagaco",
         11.059282951615325
        ],
        [
         "pasitoinc",
         13.409959526129025
        ],
        [
         "reflex-dev",
         13.018042765086282
        ],
        [
         "dr-leadership-llc",
         10.018568667742336
        ],
        [
         "staffnow",
         11.251353429176122
        ],
        [
         "soft-builder",
         9.989283193153202
        ],
        [
         "everlyinsurance",
         14.437502204914193
        ],
        [
         "kodea-lts",
         3.703278737971393
        ],
        [
         "cadrestyle",
         8.830151031391773
        ],
        [
         "future-forum-by-pi",
         9.55630125225595
        ],
        [
         "orkes-inc",
         7.589381435104316
        ],
        [
         "capitalraisenet",
         9.741042639753028
        ],
        [
         "koxa",
         10.970089930949383
        ],
        [
         "ctrliq",
         9.792537674050575
        ],
        [
         "d%C3%B3nde",
         13.855813324781007
        ],
        [
         "bound-intl",
         9.253814761293556
        ],
        [
         "steeltech-us",
         12.20147569177048
        ],
        [
         "thepostteam",
         10.823082530924749
        ],
        [
         "protectllc",
         8.518664042571881
        ],
        [
         "juju-delivery",
         13.50024586052062
        ],
        [
         "takko",
         8.21241983430334
        ],
        [
         "technepro",
         17.726957985575687
        ],
        [
         "learningsource",
         8.54103899047974
        ],
        [
         "boundbox",
         7.100540408673619
        ],
        [
         "rechallstl",
         26.59185330884264
        ],
        [
         "pollencareers",
         11.181531144146323
        ],
        [
         "pinchmedia",
         8.424257453214432
        ],
        [
         "ceo-foundation",
         12.921342041991645
        ],
        [
         "hk-cheung-shing-trading-development-usa-inc",
         8.256622769385482
        ],
        [
         "xenter-corp",
         10.408050444121262
        ],
        [
         "high-performance-sports-and-training-solutions",
         8.49021010125753
        ],
        [
         "the-primo",
         10.545978344008391
        ],
        [
         "lincoln-group-executive-search",
         10.596121578063798
        ],
        [
         "chordcommerce",
         19.69822752691553
        ],
        [
         "new-york-focus",
         10.73421770121614
        ],
        [
         "telier",
         14.920088728025728
        ],
        [
         "scalearchitects",
         11.917668411249114
        ],
        [
         "mywae",
         11.102265464620212
        ],
        [
         "cardinal-consulting-solutions",
         10.6352157357817
        ],
        [
         "qlmc",
         11.96866837763487
        ],
        [
         "ned-medical-inc",
         15.214860443542396
        ],
        [
         "getcerebral",
         7.571114364484082
        ],
        [
         "deeper-walk",
         10.41764721931661
        ],
        [
         "gaya-ai",
         9.36585052835099
        ],
        [
         "encoder-it-bd",
         17.67670981352498
        ],
        [
         "experimentworld",
         13.598268117403608
        ],
        [
         "datedesti",
         15.345399828099646
        ],
        [
         "may-jung",
         10.315700136729903
        ],
        [
         "az-vc",
         9.198547479670962
        ],
        [
         "home2-suites-by-hilton-normal-il",
         12.091015378827446
        ],
        [
         "oversightuav",
         10.147140008751286
        ],
        [
         "adaptivegrowth",
         10.628026863160953
        ],
        [
         "decibelads",
         7.923261855003628
        ],
        [
         "anco-underground-llc",
         12.850428502561764
        ],
        [
         "team-remoto",
         6.932028961684476
        ],
        [
         "whataweek",
         11.701867456925267
        ],
        [
         "joinpave",
         11.973337023329353
        ],
        [
         "tasting-club",
         18.398972524066437
        ],
        [
         "the-promotars",
         10.288370099995753
        ],
        [
         "connections-to-care-llc",
         11.588574973785684
        ],
        [
         "kineticedgeio",
         10.194422090305094
        ],
        [
         "eagleitinc",
         11.113885111157
        ],
        [
         "design-with-sol",
         9.670895134696151
        ],
        [
         "orange-charger",
         8.599354904229195
        ],
        [
         "dockmedical",
         11.328612633900525
        ],
        [
         "amcacert",
         9.60116297041635
        ],
        [
         "b-jetting-llc",
         10.397050749262345
        ],
        [
         "metastability",
         9.57426753201092
        ],
        [
         "the-clancysf",
         11.236346974979622
        ],
        [
         "keystone-foundation-llc",
         12.70982384845434
        ],
        [
         "myalee",
         12.391556262343533
        ],
        [
         "recognize-violence-change-culture",
         7.971138145325911
        ],
        [
         "fl4k",
         15.109167888953042
        ],
        [
         "porsche-ontario",
         4.042728293375051
        ],
        [
         "royainstituteofstudies",
         10.999070567913664
        ],
        [
         "archiehi",
         10.525152735392235
        ],
        [
         "withfig",
         18.730122690148814
        ],
        [
         "lincolnleadership",
         13.412296827310234
        ],
        [
         "aimwithswan",
         8.66982819048743
        ],
        [
         "ftrworld",
         10.675938362297137
        ],
        [
         "onlytheelite",
         6.923858598991996
        ],
        [
         "supplier-community-connect",
         13.8270729894027
        ],
        [
         "handsandfeetfl",
         9.061569307362255
        ],
        [
         "saks-com",
         9.966216830451923
        ],
        [
         "intheclub",
         22.5751271012228
        ],
        [
         "lumininetwork",
         9.713095925418905
        ],
        [
         "joinarena",
         10.478262842287332
        ],
        [
         "theradical1s",
         9.26989404687015
        ],
        [
         "half-past-nine",
         10.92660743374425
        ],
        [
         "reemgvl",
         5.172040216394152
        ],
        [
         "ethossupport",
         13.474378863864393
        ],
        [
         "forge-buffalo",
         11.08990459584789
        ],
        [
         "joingroops",
         10.046244123632935
        ],
        [
         "all-digital-am",
         11.34577966399216
        ],
        [
         "billing-llc",
         11.512494720525524
        ],
        [
         "greenlight-group-usa",
         10.848190230972564
        ],
        [
         "squiggly",
         14.45626646269734
        ],
        [
         "vastspace",
         14.71638378339729
        ],
        [
         "loopbaby",
         6.947109619375437
        ],
        [
         "public-impact-analytics-science-lab-pias-lab-at-harvard",
         9.406738099604146
        ],
        [
         "plantiful-tech",
         26.276789696754328
        ],
        [
         "august-hill",
         9.303471315393105
        ],
        [
         "virtual-business-solutions-charlotte-nc",
         13.574375174179623
        ],
        [
         "respectthemoon",
         9.815252415394987
        ],
        [
         "kevala-care",
         8.575311465871492
        ],
        [
         "senecalife",
         7.168564212829518
        ],
        [
         "one-project-away",
         11.62260279637654
        ],
        [
         "nodal-power",
         12.250200666297959
        ],
        [
         "hayman-woodward-human-capital",
         12.146718330358937
        ],
        [
         "overlinevc",
         11.611463591998005
        ],
        [
         "blueprintmanaged",
         8.797017217372263
        ],
        [
         "dreamequal",
         4.9093328905477165
        ],
        [
         "ancoatsmn",
         22.047865999176413
        ],
        [
         "toast-all-day",
         7.775860823636076
        ],
        [
         "making-it-media-llc",
         9.178444963110381
        ],
        [
         "dallascomedyclub",
         10.209591665073942
        ],
        [
         "credo-health",
         10.325490955073018
        ],
        [
         "kompassioncare",
         8.326543993598055
        ],
        [
         "jordanfarmstn",
         17.63325886448158
        ],
        [
         "buysellhaven",
         10.343684182770417
        ],
        [
         "commonwealth-commercial-appraisal-group",
         8.504541464016487
        ],
        [
         "peak-financial-llc",
         8.629508207415189
        ],
        [
         "ruckdelivery",
         8.219791988012286
        ],
        [
         "therollup",
         5.500477435460906
        ],
        [
         "citylightmke",
         5.765618968448103
        ],
        [
         "digitaljourni",
         11.913206804757843
        ],
        [
         "hometogetherseattle",
         6.830627959947577
        ],
        [
         "keep-safe-care",
         9.401496668417918
        ],
        [
         "quae",
         5.6548629550350205
        ],
        [
         "shared-drive",
         9.383912616527693
        ],
        [
         "safetech-family",
         9.577101158480216
        ],
        [
         "oklahoma-s-hydrogen-energy-and-fuel-cell-association-ok-hefca",
         17.992932917663197
        ],
        [
         "trufetech",
         9.255394240165389
        ],
        [
         "sir-unique",
         10.753787438095861
        ],
        [
         "within-center",
         15.254057973785839
        ],
        [
         "regalisphiladelphia",
         11.5503955985779
        ],
        [
         "qira-management",
         8.585443036189666
        ],
        [
         "covesa-alliance",
         12.699919950502903
        ],
        [
         "mightyplus",
         6.321451521155931
        ],
        [
         "connorlawpc",
         8.47298148628069
        ],
        [
         "servicealignment",
         16.173051297557123
        ],
        [
         "hire-with-near",
         7.177953355714531
        ],
        [
         "my-modern-education",
         7.597889533661823
        ],
        [
         "apartment-assistant",
         12.843827981072117
        ],
        [
         "south-asian-house-llc",
         11.93919692985377
        ],
        [
         "women-in-healthcare-michigan-chapter",
         6.786835727535112
        ],
        [
         "village-of-becoming",
         12.405237727045805
        ],
        [
         "bearnapp",
         10.549874107830313
        ],
        [
         "reaching-across-communities-with-economics",
         9.885539952179515
        ],
        [
         "getarbit",
         10.680519607769911
        ],
        [
         "the-best-workplace",
         9.965492749924037
        ],
        [
         "reciprocalrecruitment",
         9.973655487141759
        ],
        [
         "prairiehealth",
         12.815965455533286
        ],
        [
         "shield-illinois",
         18.1166353066646
        ],
        [
         "hyatt-regency-salt-lake-city",
         10.241040299329109
        ],
        [
         "eatdindin",
         11.963188885609824
        ],
        [
         "kalder-xyz",
         11.670382637954681
        ],
        [
         "joincandor",
         10.832814700132054
        ],
        [
         "devdeer-tech-us",
         11.87845367471897
        ],
        [
         "cfanadvisors",
         11.396192180774793
        ],
        [
         "drinkchiki",
         14.509074644547544
        ],
        [
         "radcliffe-radcliffe",
         8.521559762839946
        ],
        [
         "pakettv",
         13.239247011968926
        ],
        [
         "trending-fire-llc",
         12.274698092638145
        ],
        [
         "peoplearetheanswer",
         13.141531238693684
        ],
        [
         "acquireinvest",
         7.948381202177819
        ],
        [
         "stanzaspace",
         8.397086676061258
        ],
        [
         "boomerangkit",
         28.765509650526717
        ],
        [
         "guzocares",
         10.914602559465683
        ],
        [
         "round-one-business",
         15.152867540581639
        ],
        [
         "jdf-hdm-spiralweld",
         10.500322052200437
        ],
        [
         "diracinc",
         2.737918946656942
        ],
        [
         "house17",
         14.218914343894474
        ],
        [
         "du-monde-plateau",
         15.285211011384682
        ],
        [
         "trystratos",
         6.994110549436965
        ],
        [
         "ernestco",
         13.33063883351758
        ],
        [
         "redwood-storage-capital",
         15.081049536462407
        ],
        [
         "edipro-stl",
         5.492781152578556
        ],
        [
         "ed-ai",
         17.37928199233714
        ],
        [
         "cteleco",
         19.468523758363904
        ],
        [
         "somoselpoder",
         8.89565227470516
        ],
        [
         "hellorees",
         10.36368969600063
        ],
        [
         "sky-ventures-innovate",
         9.397885004595981
        ],
        [
         "thepindustry",
         8.9676479906238
        ],
        [
         "bygtalent",
         10.771230100490639
        ],
        [
         "degree-forward",
         8.659748281231378
        ],
        [
         "picture-health",
         11.977681448041896
        ],
        [
         "hopps-io",
         9.334769367427024
        ],
        [
         "stereo-app",
         18.4308850528875
        ],
        [
         "keysai",
         8.712399125789808
        ],
        [
         "atlanta-prep",
         10.443621353461257
        ],
        [
         "office-otter",
         11.731395595750099
        ],
        [
         "trustpointgps",
         5.595068288060567
        ],
        [
         "victory-technology",
         10.374167755096542
        ],
        [
         "bewhatsgood",
         11.177301617239257
        ],
        [
         "thanks-boomerang",
         16.940008726567452
        ],
        [
         "state-of-sales",
         7.235202909913166
        ],
        [
         "rapport-u",
         9.032443134555415
        ],
        [
         "operationbaby",
         14.942537932156016
        ],
        [
         "reyesassetmanagement",
         11.30742826993961
        ],
        [
         "divinia-empowers-data",
         12.074803902241062
        ],
        [
         "theexperiencex-com",
         11.319312675797534
        ],
        [
         "aplaceandcompany",
         11.858466221688705
        ],
        [
         "truenose",
         6.700004687346423
        ],
        [
         "oursuccessgroup",
         10.205658789406048
        ],
        [
         "goodsam-pbc",
         11.141372009909004
        ],
        [
         "design-edge-co",
         11.670623750259145
        ],
        [
         "hitss",
         17.661842261378915
        ],
        [
         "primary-record",
         9.952756245841519
        ],
        [
         "mobilitymi",
         9.001326782607215
        ],
        [
         "promenadeai",
         10.753658255594223
        ],
        [
         "andconsultinggroup",
         6.785837658348138
        ],
        [
         "anywhereappio",
         7.868483410816181
        ],
        [
         "scholar-finder-llc",
         11.450637903384989
        ],
        [
         "audioup",
         7.761915285931155
        ],
        [
         "croftco2",
         9.874977124442976
        ],
        [
         "dignoscore",
         10.297122566318501
        ],
        [
         "agility-bank",
         10.165083976125068
        ],
        [
         "the-momentary",
         10.189381876894615
        ],
        [
         "favorofvirginia",
         9.384567478966405
        ],
        [
         "spacespark1",
         10.999557546897174
        ],
        [
         "qualle",
         8.405083069585334
        ],
        [
         "recruitbigfish",
         11.453134369008508
        ],
        [
         "pearl-press-publication",
         7.193881548376642
        ],
        [
         "cognitionads",
         13.621912403195386
        ],
        [
         "properlabs",
         7.642525748522827
        ],
        [
         "myacademy-shop",
         10.738874809454309
        ],
        [
         "joinleland",
         12.33447572206693
        ],
        [
         "lay-law-p-c",
         10.484767798705942
        ],
        [
         "imaginary-friends-lab",
         8.599270678955518
        ],
        [
         "american-leadership-academy-online",
         10.22175577769788
        ],
        [
         "content-lab-inc",
         8.594813964251374
        ],
        [
         "puffinstore",
         9.3906073931028
        ],
        [
         "vault-money",
         5.926825195290334
        ],
        [
         "function-growth-agency",
         9.316388989063569
        ],
        [
         "the-big-we",
         8.803153460162395
        ],
        [
         "30friends",
         7.556854607637918
        ],
        [
         "kiwi-credito",
         12.976612649653994
        ],
        [
         "appreciate-io",
         11.091083547095598
        ],
        [
         "keepermatch",
         17.421147616258708
        ],
        [
         "rasss",
         8.042803076426027
        ],
        [
         "yassi",
         13.472398838385637
        ],
        [
         "work-wolves-inc",
         13.46529281387488
        ],
        [
         "nama-cbd",
         10.435887301740358
        ],
        [
         "yellowstone-local",
         10.414377907010104
        ],
        [
         "mission6",
         7.0694013728396445
        ],
        [
         "street-view",
         10.408936601144516
        ],
        [
         "waterfx",
         10.45415218754332
        ],
        [
         "storyforimpact",
         13.03835672130014
        ],
        [
         "besupernatural",
         12.393217410926473
        ],
        [
         "url-media",
         11.567911013781591
        ],
        [
         "artofimpact",
         10.534594338738527
        ],
        [
         "sustainablecleaning",
         9.992804984770398
        ],
        [
         "nova-wholesale-furniture",
         10.453457759455251
        ],
        [
         "amd-pr",
         9.661405594187682
        ],
        [
         "imagine-that-performance",
         11.434318892978737
        ],
        [
         "apurposepartnership",
         9.13465883821409
        ],
        [
         "lonch",
         8.718975244237805
        ],
        [
         "forte-content",
         10.814889608283803
        ],
        [
         "miss-excel",
         11.526640471395567
        ],
        [
         "app%C3%A9tit",
         13.56020982790913
        ],
        [
         "win-home-inspection-mcalester",
         11.99626511682486
        ],
        [
         "guidedotco",
         14.748393803866225
        ],
        [
         "letsdate",
         9.771920232796367
        ],
        [
         "the-android-post",
         10.936996894381675
        ],
        [
         "80-20ai",
         9.30474833151277
        ],
        [
         "star-solar-inc",
         13.304344859168529
        ],
        [
         "prosal-io",
         9.525574375979135
        ],
        [
         "theleadly",
         7.37105030846787
        ],
        [
         "via-scientific-inc",
         10.418155659271864
        ],
        [
         "city-of-good",
         15.323174550534992
        ],
        [
         "no-name-it-llc",
         6.313659030781616
        ],
        [
         "the-museum-of-broadway",
         18.374041751640593
        ],
        [
         "mayconstruct",
         8.865492267366069
        ],
        [
         "risespringfield",
         9.024980848793218
        ],
        [
         "kurier-tech",
         6.476526674483412
        ],
        [
         "flagblockchain",
         10.731899511237902
        ],
        [
         "mds-executive-coaching",
         8.941134574789535
        ],
        [
         "deepautomotive",
         14.380911169345488
        ],
        [
         "grown-in",
         11.602463340125771
        ],
        [
         "harmoneyinc",
         8.6695021429999
        ],
        [
         "localequity",
         11.993305662620822
        ],
        [
         "your-taskforce1",
         12.88947063544633
        ],
        [
         "usesinq",
         10.56577571111022
        ],
        [
         "startupstudiovc",
         10.224247147354523
        ],
        [
         "guaranteedincomevalidationeffort",
         10.464667375964694
        ],
        [
         "worldaerospace",
         10.260257251766843
        ],
        [
         "sold-with-summit",
         6.208881857407239
        ],
        [
         "climatepledgearena",
         12.797803452344489
        ],
        [
         "vistahighland",
         14.937121630985436
        ],
        [
         "the-well-experiment",
         10.399357103023863
        ],
        [
         "touchbbca",
         10.328489435488583
        ],
        [
         "shopbasquet",
         13.841041015681583
        ],
        [
         "s4-connect",
         12.952412267847901
        ],
        [
         "useavenue",
         9.491911530662808
        ],
        [
         "riverdistrictnola",
         10.617233529147
        ],
        [
         "gobrewing",
         9.240161173257844
        ],
        [
         "thecelery",
         7.586266940124051
        ],
        [
         "facingsnft",
         13.393964644079562
        ],
        [
         "officialchargeme",
         10.711506467718642
        ],
        [
         "merge-api",
         10.398563020806767
        ],
        [
         "pickleai",
         13.238530858173801
        ],
        [
         "biztechllc",
         10.034679710805232
        ],
        [
         "lazo-us",
         10.871518152426525
        ],
        [
         "aza-soyul",
         10.189307986270219
        ],
        [
         "upscaleorlando",
         12.640906955660228
        ],
        [
         "voicesforvoicesa501c3nonprofitorganization",
         10.465082685407353
        ],
        [
         "enmarketarena",
         9.061258036709427
        ],
        [
         "ghsedge",
         18.346660198665223
        ],
        [
         "bantercommunity",
         8.440726834172844
        ],
        [
         "howmet-aerospace",
         9.352854339139418
        ],
        [
         "animation-flow",
         11.797246974616368
        ],
        [
         "limondaytrips",
         18.6191846842612
        ],
        [
         "h2hmarketing-net",
         9.908091211069898
        ],
        [
         "kinoo-inc",
         12.59124144251486
        ],
        [
         "cyber-aware-resource-experience-care-partnerships",
         12.681502275122206
        ],
        [
         "getpearl",
         10.807989442395801
        ],
        [
         "360-sierra",
         10.860230238226157
        ],
        [
         "rifthq",
         14.76966290317546
        ],
        [
         "the90th",
         14.165949811938134
        ],
        [
         "systems-dash",
         8.407330941614273
        ],
        [
         "bookshoporg",
         21.985327968508265
        ],
        [
         "divinerinc",
         6.124525402741938
        ],
        [
         "almost-there",
         12.10672323930481
        ],
        [
         "first-online-university",
         12.77268471874854
        ],
        [
         "the-covid-commission",
         13.492998561325155
        ],
        [
         "methodfi",
         10.19593769119647
        ],
        [
         "good-talk-spanish",
         14.294081968409918
        ],
        [
         "a1vendingcompany",
         10.708379548533387
        ],
        [
         "iyk",
         9.57964046525459
        ],
        [
         "smarttheme",
         7.270759339195756
        ],
        [
         "takeup-ai",
         6.365730007603475
        ],
        [
         "relativitytech",
         12.367116261315296
        ],
        [
         "pacesai",
         11.779777335349436
        ],
        [
         "launchgravity",
         11.865636839276965
        ],
        [
         "vegasinferno",
         9.458261979299575
        ],
        [
         "edelson",
         8.59064729746639
        ],
        [
         "ecgocompany",
         6.331545256956359
        ],
        [
         "asatechnologies1",
         8.613370721214139
        ],
        [
         "the98",
         6.954429806376138
        ],
        [
         "gold-claims-llc",
         11.843685433991208
        ],
        [
         "daxton-hotel",
         9.37399358284735
        ],
        [
         "upside-jobs",
         9.824951749496364
        ],
        [
         "canoecollective",
         10.802055025278554
        ],
        [
         "hawkeyeagency",
         8.905338798541408
        ],
        [
         "toughleaf",
         13.525214730496213
        ],
        [
         "cardamom-health",
         13.526933104076587
        ],
        [
         "systematic-group-of-companies",
         10.887732895504769
        ],
        [
         "i5-inc",
         10.417923660540485
        ],
        [
         "forever-energy",
         14.11035703908059
        ],
        [
         "hospitality-innovation-labs",
         12.969275057786438
        ],
        [
         "mindsetcoaching",
         20.29489581809111
        ],
        [
         "parqhq",
         8.741542063742044
        ],
        [
         "evergreen-money",
         10.03498082501469
        ],
        [
         "rise-legal-team",
         7.832083456379032
        ],
        [
         "kodiakchemical",
         8.438005065174261
        ],
        [
         "leadrevenue",
         11.932336965967792
        ],
        [
         "tratta",
         11.431653048305003
        ],
        [
         "traaaaaaaaaaaaa",
         7.168516801809258
        ],
        [
         "women-in-chemicals-incorporated",
         10.226768199073602
        ],
        [
         "flock-off",
         10.828538429607384
        ],
        [
         "pactcapital",
         9.771215703534711
        ],
        [
         "express-employment-professionals-woodbury-nj",
         10.26496639195698
        ],
        [
         "katmai",
         8.079040157288988
        ],
        [
         "university-hp",
         10.321158457472249
        ],
        [
         "finaticorg",
         8.716059715817487
        ],
        [
         "timberwalk",
         10.633095473839125
        ],
        [
         "co-protectofficial",
         10.555953516092883
        ],
        [
         "actual-energy-inc",
         9.589808082303145
        ],
        [
         "usetemper",
         8.666047370761625
        ],
        [
         "beautiful-technologies-inc",
         10.67943881811128
        ],
        [
         "elie-mental-health-st-peters-mo",
         14.640530058038177
        ],
        [
         "21-b",
         11.365286598239607
        ],
        [
         "black-american-market",
         10.731442527019382
        ],
        [
         "call-simulator",
         8.681690994531191
        ],
        [
         "smartz-inc",
         16.03181586442514
        ],
        [
         "propelcommunity",
         6.841195323813974
        ],
        [
         "paymatters",
         13.906556583216693
        ],
        [
         "mk-mediapro",
         8.576479603758909
        ],
        [
         "stripcosmetics",
         6.399915184487294
        ],
        [
         "withaerial",
         9.680844674725137
        ],
        [
         "fulfilldotcom",
         11.07127603235881
        ],
        [
         "dropshop-technologies-inc",
         14.760194337244231
        ],
        [
         "hnalive",
         10.10975475012908
        ],
        [
         "we-are-alder",
         4.893096404204139
        ],
        [
         "floraforgood",
         9.684790585740071
        ],
        [
         "quantillinois",
         5.449529150352992
        ],
        [
         "isaachealth",
         10.151887792807763
        ],
        [
         "montana-knife-company",
         9.290448320979417
        ],
        [
         "sigma-forces",
         11.973090686071336
        ],
        [
         "the-waves-wine",
         12.60745771893307
        ],
        [
         "delraybeachmarket",
         12.34017420836106
        ],
        [
         "tfli-us-inc",
         8.79057008845326
        ],
        [
         "bx-op",
         9.495995580103113
        ],
        [
         "vgic",
         6.573138333926668
        ],
        [
         "secondsignal",
         17.090572716502592
        ],
        [
         "3bulldogs",
         6.852882532369479
        ],
        [
         "arenaadvisorygroup",
         9.320173443355737
        ],
        [
         "ironstone-cre",
         10.202026672987706
        ],
        [
         "rolli",
         6.786703149184986
        ],
        [
         "bank-the-blue",
         9.457492670595967
        ],
        [
         "tradesllc",
         6.122048579665253
        ],
        [
         "limit-break",
         20.14099573863241
        ],
        [
         "learn-coach-model-group",
         9.244957752714344
        ],
        [
         "jukeboxagency",
         8.71073693136348
        ],
        [
         "wisk-am-eatery",
         20.959554448124727
        ],
        [
         "metaphase-design-group",
         10.036975264564802
        ],
        [
         "searchisoverinfo",
         10.20897710225206
        ],
        [
         "gateway-u",
         10.916339256775036
        ],
        [
         "greenpotential",
         10.481726022318497
        ],
        [
         "inside-out-defense",
         13.635464126424935
        ],
        [
         "bccreative-llc",
         10.303197842013036
        ],
        [
         "squarewaves",
         11.559461039919029
        ],
        [
         "evrange",
         10.113351582011083
        ],
        [
         "shipyardbuild",
         9.001264681011872
        ],
        [
         "zanjero",
         9.183142907236936
        ],
        [
         "the-wall-st-hotel",
         9.295257665377028
        ],
        [
         "theversion2",
         10.314646293004417
        ],
        [
         "lumosidentity",
         12.75040242768158
        ],
        [
         "i-hospitality-usa-alliance",
         9.971581433071272
        ],
        [
         "prme-global-students",
         7.301042620939805
        ],
        [
         "oootravel",
         8.522577247100104
        ],
        [
         "recipe-cup",
         10.194599988657927
        ],
        [
         "nbsc-llc",
         12.619858042422484
        ],
        [
         "tupelosmb",
         6.222294146836829
        ],
        [
         "adaptivity-inc",
         12.016081795530628
        ],
        [
         "28-research-inc",
         7.3648943158506786
        ],
        [
         "grace-ling",
         11.210614282574086
        ],
        [
         "hampton-north",
         9.808105102059265
        ],
        [
         "people-possibility",
         8.887468423508407
        ],
        [
         "made-online",
         25.910539566092808
        ],
        [
         "hegroupcom",
         10.146803514153692
        ],
        [
         "championrepresents",
         10.962343407180422
        ],
        [
         "canna-xpress",
         11.288784623615886
        ],
        [
         "remote-daily",
         10.809309592364109
        ],
        [
         "wave-welcome",
         10.991064544752074
        ],
        [
         "innessnewyork",
         13.601058985568963
        ],
        [
         "source-wellness",
         9.649214018910612
        ],
        [
         "leadership-compass-llc",
         9.247710309897036
        ],
        [
         "the-social-hour",
         24.28111461482262
        ],
        [
         "c-suite-network-women-s-coaching-consulting-council",
         12.544280843229183
        ],
        [
         "cerebruminc",
         13.052815030466698
        ],
        [
         "oakessentials",
         8.967621391113322
        ],
        [
         "hi-peak-staffing-solutions",
         8.857721695556162
        ],
        [
         "la-semiconductor",
         8.766916976713611
        ],
        [
         "finish-safe-llc",
         8.692441965075094
        ],
        [
         "ray-feighny-hartle-pllc",
         10.99197858715803
        ],
        [
         "hotplanetrepairteam",
         9.290242382407854
        ],
        [
         "we-identify",
         14.546826757685382
        ],
        [
         "getpulseteam",
         8.719995002247902
        ],
        [
         "allinteamsports",
         13.805321782206358
        ],
        [
         "kcooper-media",
         11.39205203952594
        ],
        [
         "joinmeow",
         8.491368597124547
        ],
        [
         "greendoor-placement",
         7.793095393330432
        ],
        [
         "frolickclub",
         10.055469789510733
        ],
        [
         "thehumangroupkc",
         10.919557844074143
        ],
        [
         "fodere-consulting",
         9.84471086291903
        ],
        [
         "velera",
         18.55356655234996
        ],
        [
         "beerfridge-official",
         22.18249936015958
        ],
        [
         "crant",
         7.595171230018087
        ],
        [
         "jump-shops",
         12.352382624804287
        ],
        [
         "meta-lean",
         12.32532912369687
        ],
        [
         "hovrbyhio",
         13.50960059980779
        ],
        [
         "betterucare",
         11.519918197433181
        ],
        [
         "claritycomm",
         10.655759057921548
        ],
        [
         "mansfield-services-vt",
         4.228276908768044
        ],
        [
         "legendhealth",
         11.434423399941458
        ],
        [
         "nitrahq",
         8.625131613214302
        ],
        [
         "wunderground-coffee",
         12.65314113437843
        ],
        [
         "ampere-ev",
         12.473817546727709
        ],
        [
         "benchmark-energy-llc",
         12.350626929442576
        ],
        [
         "adaptive-edge-llc",
         12.735727450135744
        ],
        [
         "irl-re",
         11.01271815991819
        ],
        [
         "lovely-ppl",
         9.421187191805387
        ],
        [
         "myfamhc",
         5.228097341019267
        ],
        [
         "stigmaapp",
         8.129481523572238
        ],
        [
         "kyndryl",
         8.876600300680764
        ],
        [
         "landlovers",
         16.83660069829822
        ],
        [
         "gethomr",
         11.039094546363078
        ],
        [
         "cactus-solar-htx",
         9.703206196544123
        ],
        [
         "creative-science-inc-llc",
         10.962829342220173
        ],
        [
         "tyger-llc",
         11.38633167437251
        ],
        [
         "zenithcom",
         7.874612306413454
        ],
        [
         "loopy-technologies",
         10.512458581464903
        ],
        [
         "marriott-dallas-uptown",
         12.06517555665025
        ],
        [
         "consolidated-hospitality-supplies-chs",
         8.575429060619367
        ],
        [
         "global-career-center-gcc",
         11.895960791824205
        ],
        [
         "travel-to-hope",
         7.271034297615199
        ],
        [
         "sbt-by-sandy",
         9.384619842809965
        ],
        [
         "futuresre",
         12.277884112323717
        ],
        [
         "moniebank",
         8.898257039927907
        ],
        [
         "ai-health-tech",
         10.897815331538434
        ],
        [
         "i-corps-hub-northeast-region",
         7.335443039617729
        ],
        [
         "business-of-the-v",
         11.841902848772278
        ],
        [
         "redline-athletics-sutton-square",
         6.083564752494991
        ],
        [
         "safe-health-systems-inc",
         12.743082360414983
        ],
        [
         "mutual-aid",
         9.903860707407913
        ],
        [
         "thisisresidence",
         7.012446280845413
        ],
        [
         "we-are-the-dead",
         12.290378104092454
        ],
        [
         "harbor-health-team",
         11.275782320882715
        ],
        [
         "handbook-creator",
         9.09702361055954
        ],
        [
         "the-ad-girls",
         16.965538984665518
        ],
        [
         "weareatpresent",
         14.057801537481378
        ],
        [
         "cabletech",
         3.7527767497325497
        ],
        [
         "the-ritz-carlton-new-york-nomad",
         16.046035390950774
        ],
        [
         "variantfund",
         21.07836965914572
        ],
        [
         "house-of-wise",
         13.534981547121523
        ],
        [
         "coiled-computing",
         6.151164010914939
        ],
        [
         "ot-park",
         6.896659978006981
        ],
        [
         "beaches-daytona",
         9.603946382072587
        ],
        [
         "wecelebrate-llc",
         14.787776979298627
        ],
        [
         "helping-hands-community",
         6.115045863574359
        ],
        [
         "impactostrategy",
         7.783267807445693
        ],
        [
         "ai-sushila",
         10.176553657145389
        ]
       ],
       "datasetInfos": [],
       "dbfsResultPath": null,
       "isJsonSchema": true,
       "metadata": {},
       "overflow": false,
       "plotOptions": {
        "customPlotOptions": {},
        "displayType": "table",
        "pivotAggregation": null,
        "pivotColumns": null,
        "xColumns": null,
        "yColumns": null
       },
       "removedWidgets": [],
       "schema": [
        {
         "metadata": "{}",
         "name": "id",
         "type": "\"string\""
        },
        {
         "metadata": "{}",
         "name": "predicted_stability",
         "type": "\"double\""
        }
       ],
       "type": "table"
      }
     },
     "output_type": "display_data"
    }
   ],
   "source": [
    "max_similarity_df = old_vs_new_similarity_df.groupBy('old_company_id').agg(max('similarity_score').alias('max_similarity_score'))\n",
    "max_similarity_df = max_similarity_df.withColumnRenamed(\"old_company_id\", \"id\")\n",
    "similarity_companies = max_similarity_df.join(old_vs_new_similarity_df,\n",
    "                                               (old_vs_new_similarity_df['old_company_id'] == max_similarity_df['id']) &\n",
    "                                               (old_vs_new_similarity_df['similarity_score'] == max_similarity_df['max_similarity_score']), 'inner').select('old_company_id', 'new_company_id', 'similarity_score')\n",
    " \n",
    "similarity_companies = similarity_companies.join(old_companies.select('id', 'stability'), old_companies['id'] == similarity_companies['old_company_id'], 'inner')\n",
    "similarity_companies = similarity_companies.groupBy('new_company_id').agg(mean('stability').alias('predicted_stability')).select('new_company_id', 'predicted_stability')\n",
    "new_companies = new_companies.join(similarity_companies, new_companies['id'] == similarity_companies['new_company_id'], 'inner')\n",
    "\n",
    "new_companies.select('id', 'predicted_stability').display()"
   ]
  },
  {
   "cell_type": "code",
   "execution_count": 0,
   "metadata": {
    "application/vnd.databricks.v1+cell": {
     "cellMetadata": {
      "byteLimit": 2048000,
      "rowLimit": 10000
     },
     "inputWidgets": {},
     "nuid": "5af3ef3d-9704-4e31-926d-1b42a433674b",
     "showTitle": false,
     "title": ""
    }
   },
   "outputs": [],
   "source": [
    "new_companies.select('id', 'predicted_stability').write.csv(\"/dbfs/FileStore/shared_uploads/omriitzhaki@campus.technion.ac.il/predicted_stability_df\", header=True)"
   ]
  },
  {
   "cell_type": "markdown",
   "metadata": {
    "application/vnd.databricks.v1+cell": {
     "cellMetadata": {},
     "inputWidgets": {},
     "nuid": "7c1abcc8-019a-4770-907a-b1d44b4443c7",
     "showTitle": false,
     "title": ""
    }
   },
   "source": [
    "# Similarity Scores Distribution"
   ]
  },
  {
   "cell_type": "code",
   "execution_count": 0,
   "metadata": {
    "application/vnd.databricks.v1+cell": {
     "cellMetadata": {
      "byteLimit": 2048000,
      "rowLimit": 10000
     },
     "inputWidgets": {},
     "nuid": "f1d6d130-d27b-4488-a403-bf5462ca4fe0",
     "showTitle": false,
     "title": ""
    }
   },
   "outputs": [],
   "source": [
    "similarity_score_df = old_vs_new_similarity_df.select('similarity_score').toPandas()"
   ]
  },
  {
   "cell_type": "code",
   "execution_count": 0,
   "metadata": {
    "application/vnd.databricks.v1+cell": {
     "cellMetadata": {
      "byteLimit": 2048000,
      "rowLimit": 10000
     },
     "inputWidgets": {},
     "nuid": "b1983f29-4953-41db-bb2f-aff014aa6519",
     "showTitle": false,
     "title": ""
    }
   },
   "outputs": [
    {
     "output_type": "display_data",
     "data": {
      "image/png": "[encoded data removed]"
     },
     "metadata": {
      "application/vnd.databricks.v1+output": {
       "addedWidgets": {},
       "arguments": {},
       "data": "data:image/png;base64,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\n",
       "datasetInfos": [],
       "metadata": {},
       "removedWidgets": [],
       "type": "image"
      }
     },
     "output_type": "display_data"
    }
   ],
   "source": [
    "sns.histplot(data=similarity_score_df, x='similarity_score', kde=True, color='skyblue')\n",
    "plt.title('Distribution of Similarity Scores between old & new companies')\n",
    "plt.xlabel('Similarity Score')\n",
    "plt.ylabel('Frequency')\n",
    "plt.show()"
   ]
  },
  {
   "cell_type": "code",
   "execution_count": 0,
   "metadata": {
    "application/vnd.databricks.v1+cell": {
     "cellMetadata": {},
     "inputWidgets": {},
     "nuid": "e42ccad2-504b-4ada-ae04-f7de86fabe24",
     "showTitle": false,
     "title": ""
    }
   },
   "outputs": [],
   "source": []
  }
 ],
 "metadata": {
  "application/vnd.databricks.v1+notebook": {
   "dashboards": [],
   "language": "python",
   "notebookMetadata": {
    "pythonIndentUnit": 4
   },
   "notebookName": "Project_part1_stability",
   "widgets": {}
  }
 },
 "nbformat": 4,
 "nbformat_minor": 0
}
